{
 "cells": [
  {
   "cell_type": "markdown",
   "id": "673c345c",
   "metadata": {},
   "source": [
    "# Neural net speech recognition and summarization for Videos\n",
    "Loading libraries and global variables"
   ]
  },
  {
   "cell_type": "code",
   "execution_count": 1,
   "id": "9d4d3351",
   "metadata": {},
   "outputs": [
    {
     "name": "stderr",
     "output_type": "stream",
     "text": [
      "The tokenizer class you load from this checkpoint is not the same type as the class this function is called from. It may result in unexpected tokenization. \n",
      "The tokenizer class you load from this checkpoint is 'T5Tokenizer'. \n",
      "The class this function is called from is 'PegasusTokenizer'.\n",
      "You are using a model of type t5 to instantiate a model of type pegasus. This is not supported for all configurations of models and can yield errors.\n",
      "Some weights of PegasusForConditionalGeneration were not initialized from the model checkpoint at Falconsai/text_summarization and are newly initialized: ['decoder.embed_positions.weight', 'decoder.layer_norm.bias', 'decoder.layer_norm.weight', 'decoder.layers.0.encoder_attn.k_proj.bias', 'decoder.layers.0.encoder_attn.k_proj.weight', 'decoder.layers.0.encoder_attn.out_proj.bias', 'decoder.layers.0.encoder_attn.out_proj.weight', 'decoder.layers.0.encoder_attn.q_proj.bias', 'decoder.layers.0.encoder_attn.q_proj.weight', 'decoder.layers.0.encoder_attn.v_proj.bias', 'decoder.layers.0.encoder_attn.v_proj.weight', 'decoder.layers.0.encoder_attn_layer_norm.bias', 'decoder.layers.0.encoder_attn_layer_norm.weight', 'decoder.layers.0.fc1.bias', 'decoder.layers.0.fc1.weight', 'decoder.layers.0.fc2.bias', 'decoder.layers.0.fc2.weight', 'decoder.layers.0.final_layer_norm.bias', 'decoder.layers.0.final_layer_norm.weight', 'decoder.layers.0.self_attn.k_proj.bias', 'decoder.layers.0.self_attn.k_proj.weight', 'decoder.layers.0.self_attn.out_proj.bias', 'decoder.layers.0.self_attn.out_proj.weight', 'decoder.layers.0.self_attn.q_proj.bias', 'decoder.layers.0.self_attn.q_proj.weight', 'decoder.layers.0.self_attn.v_proj.bias', 'decoder.layers.0.self_attn.v_proj.weight', 'decoder.layers.0.self_attn_layer_norm.bias', 'decoder.layers.0.self_attn_layer_norm.weight', 'decoder.layers.1.encoder_attn.k_proj.bias', 'decoder.layers.1.encoder_attn.k_proj.weight', 'decoder.layers.1.encoder_attn.out_proj.bias', 'decoder.layers.1.encoder_attn.out_proj.weight', 'decoder.layers.1.encoder_attn.q_proj.bias', 'decoder.layers.1.encoder_attn.q_proj.weight', 'decoder.layers.1.encoder_attn.v_proj.bias', 'decoder.layers.1.encoder_attn.v_proj.weight', 'decoder.layers.1.encoder_attn_layer_norm.bias', 'decoder.layers.1.encoder_attn_layer_norm.weight', 'decoder.layers.1.fc1.bias', 'decoder.layers.1.fc1.weight', 'decoder.layers.1.fc2.bias', 'decoder.layers.1.fc2.weight', 'decoder.layers.1.final_layer_norm.bias', 'decoder.layers.1.final_layer_norm.weight', 'decoder.layers.1.self_attn.k_proj.bias', 'decoder.layers.1.self_attn.k_proj.weight', 'decoder.layers.1.self_attn.out_proj.bias', 'decoder.layers.1.self_attn.out_proj.weight', 'decoder.layers.1.self_attn.q_proj.bias', 'decoder.layers.1.self_attn.q_proj.weight', 'decoder.layers.1.self_attn.v_proj.bias', 'decoder.layers.1.self_attn.v_proj.weight', 'decoder.layers.1.self_attn_layer_norm.bias', 'decoder.layers.1.self_attn_layer_norm.weight', 'decoder.layers.10.encoder_attn.k_proj.bias', 'decoder.layers.10.encoder_attn.k_proj.weight', 'decoder.layers.10.encoder_attn.out_proj.bias', 'decoder.layers.10.encoder_attn.out_proj.weight', 'decoder.layers.10.encoder_attn.q_proj.bias', 'decoder.layers.10.encoder_attn.q_proj.weight', 'decoder.layers.10.encoder_attn.v_proj.bias', 'decoder.layers.10.encoder_attn.v_proj.weight', 'decoder.layers.10.encoder_attn_layer_norm.bias', 'decoder.layers.10.encoder_attn_layer_norm.weight', 'decoder.layers.10.fc1.bias', 'decoder.layers.10.fc1.weight', 'decoder.layers.10.fc2.bias', 'decoder.layers.10.fc2.weight', 'decoder.layers.10.final_layer_norm.bias', 'decoder.layers.10.final_layer_norm.weight', 'decoder.layers.10.self_attn.k_proj.bias', 'decoder.layers.10.self_attn.k_proj.weight', 'decoder.layers.10.self_attn.out_proj.bias', 'decoder.layers.10.self_attn.out_proj.weight', 'decoder.layers.10.self_attn.q_proj.bias', 'decoder.layers.10.self_attn.q_proj.weight', 'decoder.layers.10.self_attn.v_proj.bias', 'decoder.layers.10.self_attn.v_proj.weight', 'decoder.layers.10.self_attn_layer_norm.bias', 'decoder.layers.10.self_attn_layer_norm.weight', 'decoder.layers.11.encoder_attn.k_proj.bias', 'decoder.layers.11.encoder_attn.k_proj.weight', 'decoder.layers.11.encoder_attn.out_proj.bias', 'decoder.layers.11.encoder_attn.out_proj.weight', 'decoder.layers.11.encoder_attn.q_proj.bias', 'decoder.layers.11.encoder_attn.q_proj.weight', 'decoder.layers.11.encoder_attn.v_proj.bias', 'decoder.layers.11.encoder_attn.v_proj.weight', 'decoder.layers.11.encoder_attn_layer_norm.bias', 'decoder.layers.11.encoder_attn_layer_norm.weight', 'decoder.layers.11.fc1.bias', 'decoder.layers.11.fc1.weight', 'decoder.layers.11.fc2.bias', 'decoder.layers.11.fc2.weight', 'decoder.layers.11.final_layer_norm.bias', 'decoder.layers.11.final_layer_norm.weight', 'decoder.layers.11.self_attn.k_proj.bias', 'decoder.layers.11.self_attn.k_proj.weight', 'decoder.layers.11.self_attn.out_proj.bias', 'decoder.layers.11.self_attn.out_proj.weight', 'decoder.layers.11.self_attn.q_proj.bias', 'decoder.layers.11.self_attn.q_proj.weight', 'decoder.layers.11.self_attn.v_proj.bias', 'decoder.layers.11.self_attn.v_proj.weight', 'decoder.layers.11.self_attn_layer_norm.bias', 'decoder.layers.11.self_attn_layer_norm.weight', 'decoder.layers.2.encoder_attn.k_proj.bias', 'decoder.layers.2.encoder_attn.k_proj.weight', 'decoder.layers.2.encoder_attn.out_proj.bias', 'decoder.layers.2.encoder_attn.out_proj.weight', 'decoder.layers.2.encoder_attn.q_proj.bias', 'decoder.layers.2.encoder_attn.q_proj.weight', 'decoder.layers.2.encoder_attn.v_proj.bias', 'decoder.layers.2.encoder_attn.v_proj.weight', 'decoder.layers.2.encoder_attn_layer_norm.bias', 'decoder.layers.2.encoder_attn_layer_norm.weight', 'decoder.layers.2.fc1.bias', 'decoder.layers.2.fc1.weight', 'decoder.layers.2.fc2.bias', 'decoder.layers.2.fc2.weight', 'decoder.layers.2.final_layer_norm.bias', 'decoder.layers.2.final_layer_norm.weight', 'decoder.layers.2.self_attn.k_proj.bias', 'decoder.layers.2.self_attn.k_proj.weight', 'decoder.layers.2.self_attn.out_proj.bias', 'decoder.layers.2.self_attn.out_proj.weight', 'decoder.layers.2.self_attn.q_proj.bias', 'decoder.layers.2.self_attn.q_proj.weight', 'decoder.layers.2.self_attn.v_proj.bias', 'decoder.layers.2.self_attn.v_proj.weight', 'decoder.layers.2.self_attn_layer_norm.bias', 'decoder.layers.2.self_attn_layer_norm.weight', 'decoder.layers.3.encoder_attn.k_proj.bias', 'decoder.layers.3.encoder_attn.k_proj.weight', 'decoder.layers.3.encoder_attn.out_proj.bias', 'decoder.layers.3.encoder_attn.out_proj.weight', 'decoder.layers.3.encoder_attn.q_proj.bias', 'decoder.layers.3.encoder_attn.q_proj.weight', 'decoder.layers.3.encoder_attn.v_proj.bias', 'decoder.layers.3.encoder_attn.v_proj.weight', 'decoder.layers.3.encoder_attn_layer_norm.bias', 'decoder.layers.3.encoder_attn_layer_norm.weight', 'decoder.layers.3.fc1.bias', 'decoder.layers.3.fc1.weight', 'decoder.layers.3.fc2.bias', 'decoder.layers.3.fc2.weight', 'decoder.layers.3.final_layer_norm.bias', 'decoder.layers.3.final_layer_norm.weight', 'decoder.layers.3.self_attn.k_proj.bias', 'decoder.layers.3.self_attn.k_proj.weight', 'decoder.layers.3.self_attn.out_proj.bias', 'decoder.layers.3.self_attn.out_proj.weight', 'decoder.layers.3.self_attn.q_proj.bias', 'decoder.layers.3.self_attn.q_proj.weight', 'decoder.layers.3.self_attn.v_proj.bias', 'decoder.layers.3.self_attn.v_proj.weight', 'decoder.layers.3.self_attn_layer_norm.bias', 'decoder.layers.3.self_attn_layer_norm.weight', 'decoder.layers.4.encoder_attn.k_proj.bias', 'decoder.layers.4.encoder_attn.k_proj.weight', 'decoder.layers.4.encoder_attn.out_proj.bias', 'decoder.layers.4.encoder_attn.out_proj.weight', 'decoder.layers.4.encoder_attn.q_proj.bias', 'decoder.layers.4.encoder_attn.q_proj.weight', 'decoder.layers.4.encoder_attn.v_proj.bias', 'decoder.layers.4.encoder_attn.v_proj.weight', 'decoder.layers.4.encoder_attn_layer_norm.bias', 'decoder.layers.4.encoder_attn_layer_norm.weight', 'decoder.layers.4.fc1.bias', 'decoder.layers.4.fc1.weight', 'decoder.layers.4.fc2.bias', 'decoder.layers.4.fc2.weight', 'decoder.layers.4.final_layer_norm.bias', 'decoder.layers.4.final_layer_norm.weight', 'decoder.layers.4.self_attn.k_proj.bias', 'decoder.layers.4.self_attn.k_proj.weight', 'decoder.layers.4.self_attn.out_proj.bias', 'decoder.layers.4.self_attn.out_proj.weight', 'decoder.layers.4.self_attn.q_proj.bias', 'decoder.layers.4.self_attn.q_proj.weight', 'decoder.layers.4.self_attn.v_proj.bias', 'decoder.layers.4.self_attn.v_proj.weight', 'decoder.layers.4.self_attn_layer_norm.bias', 'decoder.layers.4.self_attn_layer_norm.weight', 'decoder.layers.5.encoder_attn.k_proj.bias', 'decoder.layers.5.encoder_attn.k_proj.weight', 'decoder.layers.5.encoder_attn.out_proj.bias', 'decoder.layers.5.encoder_attn.out_proj.weight', 'decoder.layers.5.encoder_attn.q_proj.bias', 'decoder.layers.5.encoder_attn.q_proj.weight', 'decoder.layers.5.encoder_attn.v_proj.bias', 'decoder.layers.5.encoder_attn.v_proj.weight', 'decoder.layers.5.encoder_attn_layer_norm.bias', 'decoder.layers.5.encoder_attn_layer_norm.weight', 'decoder.layers.5.fc1.bias', 'decoder.layers.5.fc1.weight', 'decoder.layers.5.fc2.bias', 'decoder.layers.5.fc2.weight', 'decoder.layers.5.final_layer_norm.bias', 'decoder.layers.5.final_layer_norm.weight', 'decoder.layers.5.self_attn.k_proj.bias', 'decoder.layers.5.self_attn.k_proj.weight', 'decoder.layers.5.self_attn.out_proj.bias', 'decoder.layers.5.self_attn.out_proj.weight', 'decoder.layers.5.self_attn.q_proj.bias', 'decoder.layers.5.self_attn.q_proj.weight', 'decoder.layers.5.self_attn.v_proj.bias', 'decoder.layers.5.self_attn.v_proj.weight', 'decoder.layers.5.self_attn_layer_norm.bias', 'decoder.layers.5.self_attn_layer_norm.weight', 'decoder.layers.6.encoder_attn.k_proj.bias', 'decoder.layers.6.encoder_attn.k_proj.weight', 'decoder.layers.6.encoder_attn.out_proj.bias', 'decoder.layers.6.encoder_attn.out_proj.weight', 'decoder.layers.6.encoder_attn.q_proj.bias', 'decoder.layers.6.encoder_attn.q_proj.weight', 'decoder.layers.6.encoder_attn.v_proj.bias', 'decoder.layers.6.encoder_attn.v_proj.weight', 'decoder.layers.6.encoder_attn_layer_norm.bias', 'decoder.layers.6.encoder_attn_layer_norm.weight', 'decoder.layers.6.fc1.bias', 'decoder.layers.6.fc1.weight', 'decoder.layers.6.fc2.bias', 'decoder.layers.6.fc2.weight', 'decoder.layers.6.final_layer_norm.bias', 'decoder.layers.6.final_layer_norm.weight', 'decoder.layers.6.self_attn.k_proj.bias', 'decoder.layers.6.self_attn.k_proj.weight', 'decoder.layers.6.self_attn.out_proj.bias', 'decoder.layers.6.self_attn.out_proj.weight', 'decoder.layers.6.self_attn.q_proj.bias', 'decoder.layers.6.self_attn.q_proj.weight', 'decoder.layers.6.self_attn.v_proj.bias', 'decoder.layers.6.self_attn.v_proj.weight', 'decoder.layers.6.self_attn_layer_norm.bias', 'decoder.layers.6.self_attn_layer_norm.weight', 'decoder.layers.7.encoder_attn.k_proj.bias', 'decoder.layers.7.encoder_attn.k_proj.weight', 'decoder.layers.7.encoder_attn.out_proj.bias', 'decoder.layers.7.encoder_attn.out_proj.weight', 'decoder.layers.7.encoder_attn.q_proj.bias', 'decoder.layers.7.encoder_attn.q_proj.weight', 'decoder.layers.7.encoder_attn.v_proj.bias', 'decoder.layers.7.encoder_attn.v_proj.weight', 'decoder.layers.7.encoder_attn_layer_norm.bias', 'decoder.layers.7.encoder_attn_layer_norm.weight', 'decoder.layers.7.fc1.bias', 'decoder.layers.7.fc1.weight', 'decoder.layers.7.fc2.bias', 'decoder.layers.7.fc2.weight', 'decoder.layers.7.final_layer_norm.bias', 'decoder.layers.7.final_layer_norm.weight', 'decoder.layers.7.self_attn.k_proj.bias', 'decoder.layers.7.self_attn.k_proj.weight', 'decoder.layers.7.self_attn.out_proj.bias', 'decoder.layers.7.self_attn.out_proj.weight', 'decoder.layers.7.self_attn.q_proj.bias', 'decoder.layers.7.self_attn.q_proj.weight', 'decoder.layers.7.self_attn.v_proj.bias', 'decoder.layers.7.self_attn.v_proj.weight', 'decoder.layers.7.self_attn_layer_norm.bias', 'decoder.layers.7.self_attn_layer_norm.weight', 'decoder.layers.8.encoder_attn.k_proj.bias', 'decoder.layers.8.encoder_attn.k_proj.weight', 'decoder.layers.8.encoder_attn.out_proj.bias', 'decoder.layers.8.encoder_attn.out_proj.weight', 'decoder.layers.8.encoder_attn.q_proj.bias', 'decoder.layers.8.encoder_attn.q_proj.weight', 'decoder.layers.8.encoder_attn.v_proj.bias', 'decoder.layers.8.encoder_attn.v_proj.weight', 'decoder.layers.8.encoder_attn_layer_norm.bias', 'decoder.layers.8.encoder_attn_layer_norm.weight', 'decoder.layers.8.fc1.bias', 'decoder.layers.8.fc1.weight', 'decoder.layers.8.fc2.bias', 'decoder.layers.8.fc2.weight', 'decoder.layers.8.final_layer_norm.bias', 'decoder.layers.8.final_layer_norm.weight', 'decoder.layers.8.self_attn.k_proj.bias', 'decoder.layers.8.self_attn.k_proj.weight', 'decoder.layers.8.self_attn.out_proj.bias', 'decoder.layers.8.self_attn.out_proj.weight', 'decoder.layers.8.self_attn.q_proj.bias', 'decoder.layers.8.self_attn.q_proj.weight', 'decoder.layers.8.self_attn.v_proj.bias', 'decoder.layers.8.self_attn.v_proj.weight', 'decoder.layers.8.self_attn_layer_norm.bias', 'decoder.layers.8.self_attn_layer_norm.weight', 'decoder.layers.9.encoder_attn.k_proj.bias', 'decoder.layers.9.encoder_attn.k_proj.weight', 'decoder.layers.9.encoder_attn.out_proj.bias', 'decoder.layers.9.encoder_attn.out_proj.weight', 'decoder.layers.9.encoder_attn.q_proj.bias', 'decoder.layers.9.encoder_attn.q_proj.weight', 'decoder.layers.9.encoder_attn.v_proj.bias', 'decoder.layers.9.encoder_attn.v_proj.weight', 'decoder.layers.9.encoder_attn_layer_norm.bias', 'decoder.layers.9.encoder_attn_layer_norm.weight', 'decoder.layers.9.fc1.bias', 'decoder.layers.9.fc1.weight', 'decoder.layers.9.fc2.bias', 'decoder.layers.9.fc2.weight', 'decoder.layers.9.final_layer_norm.bias', 'decoder.layers.9.final_layer_norm.weight', 'decoder.layers.9.self_attn.k_proj.bias', 'decoder.layers.9.self_attn.k_proj.weight', 'decoder.layers.9.self_attn.out_proj.bias', 'decoder.layers.9.self_attn.out_proj.weight', 'decoder.layers.9.self_attn.q_proj.bias', 'decoder.layers.9.self_attn.q_proj.weight', 'decoder.layers.9.self_attn.v_proj.bias', 'decoder.layers.9.self_attn.v_proj.weight', 'decoder.layers.9.self_attn_layer_norm.bias', 'decoder.layers.9.self_attn_layer_norm.weight', 'encoder.embed_positions.weight', 'encoder.layer_norm.bias', 'encoder.layer_norm.weight', 'encoder.layers.0.fc1.bias', 'encoder.layers.0.fc1.weight', 'encoder.layers.0.fc2.bias', 'encoder.layers.0.fc2.weight', 'encoder.layers.0.final_layer_norm.bias', 'encoder.layers.0.final_layer_norm.weight', 'encoder.layers.0.self_attn.k_proj.bias', 'encoder.layers.0.self_attn.k_proj.weight', 'encoder.layers.0.self_attn.out_proj.bias', 'encoder.layers.0.self_attn.out_proj.weight', 'encoder.layers.0.self_attn.q_proj.bias', 'encoder.layers.0.self_attn.q_proj.weight', 'encoder.layers.0.self_attn.v_proj.bias', 'encoder.layers.0.self_attn.v_proj.weight', 'encoder.layers.0.self_attn_layer_norm.bias', 'encoder.layers.0.self_attn_layer_norm.weight', 'encoder.layers.1.fc1.bias', 'encoder.layers.1.fc1.weight', 'encoder.layers.1.fc2.bias', 'encoder.layers.1.fc2.weight', 'encoder.layers.1.final_layer_norm.bias', 'encoder.layers.1.final_layer_norm.weight', 'encoder.layers.1.self_attn.k_proj.bias', 'encoder.layers.1.self_attn.k_proj.weight', 'encoder.layers.1.self_attn.out_proj.bias', 'encoder.layers.1.self_attn.out_proj.weight', 'encoder.layers.1.self_attn.q_proj.bias', 'encoder.layers.1.self_attn.q_proj.weight', 'encoder.layers.1.self_attn.v_proj.bias', 'encoder.layers.1.self_attn.v_proj.weight', 'encoder.layers.1.self_attn_layer_norm.bias', 'encoder.layers.1.self_attn_layer_norm.weight', 'encoder.layers.10.fc1.bias', 'encoder.layers.10.fc1.weight', 'encoder.layers.10.fc2.bias', 'encoder.layers.10.fc2.weight', 'encoder.layers.10.final_layer_norm.bias', 'encoder.layers.10.final_layer_norm.weight', 'encoder.layers.10.self_attn.k_proj.bias', 'encoder.layers.10.self_attn.k_proj.weight', 'encoder.layers.10.self_attn.out_proj.bias', 'encoder.layers.10.self_attn.out_proj.weight', 'encoder.layers.10.self_attn.q_proj.bias', 'encoder.layers.10.self_attn.q_proj.weight', 'encoder.layers.10.self_attn.v_proj.bias', 'encoder.layers.10.self_attn.v_proj.weight', 'encoder.layers.10.self_attn_layer_norm.bias', 'encoder.layers.10.self_attn_layer_norm.weight', 'encoder.layers.11.fc1.bias', 'encoder.layers.11.fc1.weight', 'encoder.layers.11.fc2.bias', 'encoder.layers.11.fc2.weight', 'encoder.layers.11.final_layer_norm.bias', 'encoder.layers.11.final_layer_norm.weight', 'encoder.layers.11.self_attn.k_proj.bias', 'encoder.layers.11.self_attn.k_proj.weight', 'encoder.layers.11.self_attn.out_proj.bias', 'encoder.layers.11.self_attn.out_proj.weight', 'encoder.layers.11.self_attn.q_proj.bias', 'encoder.layers.11.self_attn.q_proj.weight', 'encoder.layers.11.self_attn.v_proj.bias', 'encoder.layers.11.self_attn.v_proj.weight', 'encoder.layers.11.self_attn_layer_norm.bias', 'encoder.layers.11.self_attn_layer_norm.weight', 'encoder.layers.2.fc1.bias', 'encoder.layers.2.fc1.weight', 'encoder.layers.2.fc2.bias', 'encoder.layers.2.fc2.weight', 'encoder.layers.2.final_layer_norm.bias', 'encoder.layers.2.final_layer_norm.weight', 'encoder.layers.2.self_attn.k_proj.bias', 'encoder.layers.2.self_attn.k_proj.weight', 'encoder.layers.2.self_attn.out_proj.bias', 'encoder.layers.2.self_attn.out_proj.weight', 'encoder.layers.2.self_attn.q_proj.bias', 'encoder.layers.2.self_attn.q_proj.weight', 'encoder.layers.2.self_attn.v_proj.bias', 'encoder.layers.2.self_attn.v_proj.weight', 'encoder.layers.2.self_attn_layer_norm.bias', 'encoder.layers.2.self_attn_layer_norm.weight', 'encoder.layers.3.fc1.bias', 'encoder.layers.3.fc1.weight', 'encoder.layers.3.fc2.bias', 'encoder.layers.3.fc2.weight', 'encoder.layers.3.final_layer_norm.bias', 'encoder.layers.3.final_layer_norm.weight', 'encoder.layers.3.self_attn.k_proj.bias', 'encoder.layers.3.self_attn.k_proj.weight', 'encoder.layers.3.self_attn.out_proj.bias', 'encoder.layers.3.self_attn.out_proj.weight', 'encoder.layers.3.self_attn.q_proj.bias', 'encoder.layers.3.self_attn.q_proj.weight', 'encoder.layers.3.self_attn.v_proj.bias', 'encoder.layers.3.self_attn.v_proj.weight', 'encoder.layers.3.self_attn_layer_norm.bias', 'encoder.layers.3.self_attn_layer_norm.weight', 'encoder.layers.4.fc1.bias', 'encoder.layers.4.fc1.weight', 'encoder.layers.4.fc2.bias', 'encoder.layers.4.fc2.weight', 'encoder.layers.4.final_layer_norm.bias', 'encoder.layers.4.final_layer_norm.weight', 'encoder.layers.4.self_attn.k_proj.bias', 'encoder.layers.4.self_attn.k_proj.weight', 'encoder.layers.4.self_attn.out_proj.bias', 'encoder.layers.4.self_attn.out_proj.weight', 'encoder.layers.4.self_attn.q_proj.bias', 'encoder.layers.4.self_attn.q_proj.weight', 'encoder.layers.4.self_attn.v_proj.bias', 'encoder.layers.4.self_attn.v_proj.weight', 'encoder.layers.4.self_attn_layer_norm.bias', 'encoder.layers.4.self_attn_layer_norm.weight', 'encoder.layers.5.fc1.bias', 'encoder.layers.5.fc1.weight', 'encoder.layers.5.fc2.bias', 'encoder.layers.5.fc2.weight', 'encoder.layers.5.final_layer_norm.bias', 'encoder.layers.5.final_layer_norm.weight', 'encoder.layers.5.self_attn.k_proj.bias', 'encoder.layers.5.self_attn.k_proj.weight', 'encoder.layers.5.self_attn.out_proj.bias', 'encoder.layers.5.self_attn.out_proj.weight', 'encoder.layers.5.self_attn.q_proj.bias', 'encoder.layers.5.self_attn.q_proj.weight', 'encoder.layers.5.self_attn.v_proj.bias', 'encoder.layers.5.self_attn.v_proj.weight', 'encoder.layers.5.self_attn_layer_norm.bias', 'encoder.layers.5.self_attn_layer_norm.weight', 'encoder.layers.6.fc1.bias', 'encoder.layers.6.fc1.weight', 'encoder.layers.6.fc2.bias', 'encoder.layers.6.fc2.weight', 'encoder.layers.6.final_layer_norm.bias', 'encoder.layers.6.final_layer_norm.weight', 'encoder.layers.6.self_attn.k_proj.bias', 'encoder.layers.6.self_attn.k_proj.weight', 'encoder.layers.6.self_attn.out_proj.bias', 'encoder.layers.6.self_attn.out_proj.weight', 'encoder.layers.6.self_attn.q_proj.bias', 'encoder.layers.6.self_attn.q_proj.weight', 'encoder.layers.6.self_attn.v_proj.bias', 'encoder.layers.6.self_attn.v_proj.weight', 'encoder.layers.6.self_attn_layer_norm.bias', 'encoder.layers.6.self_attn_layer_norm.weight', 'encoder.layers.7.fc1.bias', 'encoder.layers.7.fc1.weight', 'encoder.layers.7.fc2.bias', 'encoder.layers.7.fc2.weight', 'encoder.layers.7.final_layer_norm.bias', 'encoder.layers.7.final_layer_norm.weight', 'encoder.layers.7.self_attn.k_proj.bias', 'encoder.layers.7.self_attn.k_proj.weight', 'encoder.layers.7.self_attn.out_proj.bias', 'encoder.layers.7.self_attn.out_proj.weight', 'encoder.layers.7.self_attn.q_proj.bias', 'encoder.layers.7.self_attn.q_proj.weight', 'encoder.layers.7.self_attn.v_proj.bias', 'encoder.layers.7.self_attn.v_proj.weight', 'encoder.layers.7.self_attn_layer_norm.bias', 'encoder.layers.7.self_attn_layer_norm.weight', 'encoder.layers.8.fc1.bias', 'encoder.layers.8.fc1.weight', 'encoder.layers.8.fc2.bias', 'encoder.layers.8.fc2.weight', 'encoder.layers.8.final_layer_norm.bias', 'encoder.layers.8.final_layer_norm.weight', 'encoder.layers.8.self_attn.k_proj.bias', 'encoder.layers.8.self_attn.k_proj.weight', 'encoder.layers.8.self_attn.out_proj.bias', 'encoder.layers.8.self_attn.out_proj.weight', 'encoder.layers.8.self_attn.q_proj.bias', 'encoder.layers.8.self_attn.q_proj.weight', 'encoder.layers.8.self_attn.v_proj.bias', 'encoder.layers.8.self_attn.v_proj.weight', 'encoder.layers.8.self_attn_layer_norm.bias', 'encoder.layers.8.self_attn_layer_norm.weight', 'encoder.layers.9.fc1.bias', 'encoder.layers.9.fc1.weight', 'encoder.layers.9.fc2.bias', 'encoder.layers.9.fc2.weight', 'encoder.layers.9.final_layer_norm.bias', 'encoder.layers.9.final_layer_norm.weight', 'encoder.layers.9.self_attn.k_proj.bias', 'encoder.layers.9.self_attn.k_proj.weight', 'encoder.layers.9.self_attn.out_proj.bias', 'encoder.layers.9.self_attn.out_proj.weight', 'encoder.layers.9.self_attn.q_proj.bias', 'encoder.layers.9.self_attn.q_proj.weight', 'encoder.layers.9.self_attn.v_proj.bias', 'encoder.layers.9.self_attn.v_proj.weight', 'encoder.layers.9.self_attn_layer_norm.bias', 'encoder.layers.9.self_attn_layer_norm.weight']\n",
      "You should probably TRAIN this model on a down-stream task to be able to use it for predictions and inference.\n"
     ]
    }
   ],
   "source": [
    "import subprocess\n",
    "import moviepy.editor as mp\n",
    "from moviepy.video.io.ffmpeg_tools import ffmpeg_extract_subclip\n",
    "import whisper\n",
    "# https://openai.com/blog/whisper/\n",
    "# pip install git+https://github.com/openai/whisper.git, not whisper.py unrelated package\n",
    "from pathlib import Path\n",
    "from transformers import PegasusForConditionalGeneration, PegasusTokenizer\n",
    "import torch\n",
    "import os\n",
    "\n",
    "model_name = 'Falconsai/text_summarization'#'google/pegasus-xsum' #'facebook/bart-large-cnn'\n",
    "torch_device = 'cuda' if torch.cuda.is_available() else 'cpu'\n",
    "tokenizer = PegasusTokenizer.from_pretrained(model_name)\n",
    "model = PegasusForConditionalGeneration.from_pretrained(model_name).to(torch_device)\n",
    "# https://arxiv.org/pdf/1912.08777.pdf\n",
    "# https://medium.com/codex/build-an-automatic-abstractive-text-summarizer-in-ten-minutes-f15f07e54bae"
   ]
  },
  {
   "cell_type": "markdown",
   "id": "6dd6879b",
   "metadata": {},
   "source": [
    "Función para determinar la duración total del video"
   ]
  },
  {
   "cell_type": "code",
   "execution_count": 2,
   "id": "f411c5b3",
   "metadata": {},
   "outputs": [],
   "source": [
    "def get_length(filename):\n",
    "    result = subprocess.run([\"ffprobe\", \"-v\", \"error\", \"-show_entries\",\n",
    "                             \"format=duration\", \"-of\",\n",
    "                             \"default=noprint_wrappers=1:nokey=1\", filename],\n",
    "        stdout=subprocess.PIPE,\n",
    "        stderr=subprocess.STDOUT)\n",
    "    return float(result.stdout)"
   ]
  },
  {
   "cell_type": "markdown",
   "id": "ed9932e3",
   "metadata": {},
   "source": [
    "Function to generate the video subtitles, separating them into blocks of chunk_size seconds. The function can be limited so that it only generates the subtitles between the start and stop seconds, and can be used as:\n",
    "\n",
    "-VideoToSRT(\"video.mp4\")\n",
    "\n",
    "-VideoToSRT(\"video.mp4\", 10)\n",
    "\n",
    "-VideoToSRT(\"video.mp4\", 10, 52)\n",
    "\n",
    "-VideoToSRT(\"video.mp4\", 5, 34, 212)"
   ]
  },
  {
   "cell_type": "code",
   "execution_count": 3,
   "id": "3632e620",
   "metadata": {},
   "outputs": [],
   "source": [
    "def VideoToSRT(filename, chunk_size=5, start=0, stop=-1):\n",
    "    num_seconds_video= int(get_length(filename))+1\n",
    "    print(\"The video is {} seconds\".format(num_seconds_video))\n",
    "    l=list(range(0,num_seconds_video+1,chunk_size))\n",
    "    rank=range(len(l)-1)\n",
    "    if stop>num_seconds_video:\n",
    "        print(\"Upper time limit exceeds the duration of the video, it will be considered the end of the video\")\n",
    "    if start>0:\n",
    "        emp=int(start/chunk_size)\n",
    "    else:\n",
    "        emp=0\n",
    "    if stop>-1:\n",
    "        term=int(stop/chunk_size)+1\n",
    "    else:\n",
    "        term=len(l)-1\n",
    "    rank=range(emp,term)\n",
    "    diz={}\n",
    "\n",
    "    for i in rank:\n",
    "        ffmpeg_extract_subclip(filename, l[i]-2*(l[i]!=0), l[i+1], targetname=\"chunks/cut{}.mp4\".format(i+1))\n",
    "        clip = mp.VideoFileClip(r\"chunks/cut{}.mp4\".format(i+1)) \n",
    "        clip.audio.write_audiofile(r\"converted/converted{}.wav\".format(i+1))\n",
    "        os.remove(r\"chunks/cut{}.mp4\".format(i+1))\n",
    "\n",
    "        model = whisper.load_model(\"base\")\n",
    "        result = model.transcribe(\"converted/converted{}.wav\".format(i+1))\n",
    "        os.remove(r\"converted/converted{}.wav\".format(i+1))\n",
    "        print(round((i-emp)*100/len(rank),2),\"%:\")\n",
    "        print(result[\"text\"])\n",
    "        diz['chunk{}'.format(i+1)]=result[\"text\"]\n",
    "\n",
    "        l_chunks=[str(i+1)+'\\n00:'+\"{:02d}\".format(int(chunk_size*i/60))+':'+\"{:02d}\".format(chunk_size*i%60)+',000 --> '+'00:'+\"{:02d}\".format(int(chunk_size*(i+1)/60))+':'+\"{:02d}\".format(chunk_size*(i+1)%60-1)+',999\\n'+diz['chunk{}'.format(i+1)] for i in range(min(rank),(len(diz)+min(rank)-1))]\n",
    "        text='\\n\\n'.join(l_chunks)\n",
    "\n",
    "        with open(filename[:-3]+'txt',mode ='w') as file:\n",
    "          file.write(\"\\n\")\n",
    "          file.write(text)\n",
    "        \n",
    "        p = Path(filename[:-3]+'txt')\n",
    "        p.rename(p.with_suffix('.srt'))\n",
    "    print(\"100%\")\n",
    "    print(\"Finally ready!\")"
   ]
  },
  {
   "cell_type": "markdown",
   "id": "923088de",
   "metadata": {},
   "source": [
    "## Get the video script\n",
    "Function to get the complete video script."
   ]
  },
  {
   "cell_type": "code",
   "execution_count": 4,
   "id": "2c419dfa",
   "metadata": {},
   "outputs": [],
   "source": [
    "def VideoScript(filename):\n",
    "    clip = mp.VideoFileClip(filename)\n",
    "    clip.audio.write_audiofile(filename[:-3]+\".wav\")\n",
    "    model = whisper.load_model(\"base\")\n",
    "    result = model.transcribe(filename[:-3]+\".wav\")\n",
    "    os.remove(filename[:-3]+\".wav\")\n",
    "    Script=result[\"text\"]\n",
    "    with open('Script.txt',mode ='w') as file:\n",
    "          file.write(Script)\n",
    "    print(Script)\n",
    "    return(Script)"
   ]
  },
  {
   "cell_type": "markdown",
   "id": "36fbb49d",
   "metadata": {},
   "source": [
    "## Create a summary from the script\n",
    "Defines the functions necessary to summarize the Script into a maximum of max_len sentences"
   ]
  },
  {
   "cell_type": "code",
   "execution_count": 5,
   "id": "956a171a",
   "metadata": {},
   "outputs": [],
   "source": [
    "def AbstractiveSummarization(Script, max_len=5):\n",
    "    sentences = Script.split(\". \")\n",
    "    textsize=len(sentences)\n",
    "    paragraph_size=int(textsize/(max_len))\n",
    "    paragraphs_lims=list(range(0,len(sentences)+1,paragraph_size))\n",
    "    paragraphs_lims[-1]=textsize\n",
    "    paragraphs=[]\n",
    "    main_ideas=[]\n",
    "    batch = tokenizer.prepare_seq2seq_batch(Script, truncation=True, padding='longest',return_tensors='pt')\n",
    "    translated = model.generate(**batch)\n",
    "    tgt_text = tokenizer.batch_decode(translated, skip_special_tokens=True)\n",
    "    main_ideas.append(tgt_text)\n",
    "    for i in range(1,len(paragraphs_lims)):\n",
    "        paragraphs.append('. '.join(sentences[paragraphs_lims[i-1]:paragraphs_lims[i]]))\n",
    "    for i in range(len(paragraphs)):\n",
    "        print(min(round((i+1)*100/max_len,2),100),\"%\")\n",
    "        batch = tokenizer.prepare_seq2seq_batch(paragraphs[i], truncation=True, padding='longest',return_tensors='pt')\n",
    "        translated = model.generate(**batch)\n",
    "        tgt_text = tokenizer.batch_decode(translated, skip_special_tokens=True)\n",
    "        tgt_text[0] = tgt_text[0].replace('datememe','')\n",
    "        tgt_text[0] = tgt_text[0].replace('DropCatch','')\n",
    "        if 'n our series of' in tgt_text[0]:\n",
    "            Names=re.findall(r\"[A-Z][a-z]+,?\\s+(?:[A-Z][a-z]*\\.?\\s*)?[A-Z][a-z]+\", tgt_text[0])\n",
    "            if len(Names)>0:\n",
    "                presence=True\n",
    "                for j in range(len(Names)):\n",
    "                    if Names[j] not in paragraphs[i]:\n",
    "                        presence=False\n",
    "                if presence==False:\n",
    "                    print(\"Incorrect summary: \", tgt_text[0])\n",
    "                    print(\"Original text: \", paragraphs[i])\n",
    "        main_ideas.append(tgt_text)\n",
    "    return(''.join(idea[0] for idea in main_ideas))"
   ]
  },
  {
   "cell_type": "markdown",
   "id": "4a956bd0",
   "metadata": {},
   "source": [
    "Running the functions\n",
    "\n",
    "The following function only creates the video subtitles in an SRT format to test the Whisper library"
   ]
  },
  {
   "cell_type": "code",
   "execution_count": 6,
   "id": "9e2ad65f",
   "metadata": {},
   "outputs": [
    {
     "name": "stdout",
     "output_type": "stream",
     "text": [
      "The video is 861 seconds\n",
      "Moviepy - Running:\n",
      ">>> \"+ \" \".join(cmd)\n",
      "Moviepy - Command successful\n",
      "MoviePy - Writing audio in converted/converted1.wav\n"
     ]
    },
    {
     "name": "stderr",
     "output_type": "stream",
     "text": [
      "                                                        "
     ]
    },
    {
     "name": "stdout",
     "output_type": "stream",
     "text": [
      "MoviePy - Done.\n"
     ]
    },
    {
     "name": "stderr",
     "output_type": "stream",
     "text": [
      "\r"
     ]
    },
    {
     "name": "stdout",
     "output_type": "stream",
     "text": [
      "0.0 %:\n",
      " oh receive the function\n",
      "Moviepy - Running:\n",
      ">>> \"+ \" \".join(cmd)\n",
      "Moviepy - Command successful\n",
      "MoviePy - Writing audio in converted/converted2.wav\n"
     ]
    },
    {
     "name": "stderr",
     "output_type": "stream",
     "text": [
      "                                                        "
     ]
    },
    {
     "name": "stdout",
     "output_type": "stream",
     "text": [
      "MoviePy - Done.\n"
     ]
    },
    {
     "name": "stderr",
     "output_type": "stream",
     "text": [
      "\r"
     ]
    },
    {
     "name": "stdout",
     "output_type": "stream",
     "text": [
      "2.7 %:\n",
      " Lloyd Fondghérad y Co Work Y Cienaden Mae'sol w街 o'n Ysd Eenig\n",
      "Moviepy - Running:\n",
      ">>> \"+ \" \".join(cmd)\n",
      "Moviepy - Command successful\n",
      "MoviePy - Writing audio in converted/converted3.wav\n"
     ]
    },
    {
     "name": "stderr",
     "output_type": "stream",
     "text": [
      "                                                        "
     ]
    },
    {
     "name": "stdout",
     "output_type": "stream",
     "text": [
      "MoviePy - Done.\n"
     ]
    },
    {
     "name": "stderr",
     "output_type": "stream",
     "text": [
      "\r"
     ]
    },
    {
     "name": "stdout",
     "output_type": "stream",
     "text": [
      "5.41 %:\n",
      " They explain to me that this organization has suffered a cyber attack, more specifically, a ransomware attack, which is designed, I-9-9-9-9-9-9-9-9-9-9-9-9-9-9-9-9-9.\n",
      "Moviepy - Running:\n",
      ">>> \"+ \" \".join(cmd)\n",
      "Moviepy - Command successful\n",
      "MoviePy - Writing audio in converted/converted4.wav\n"
     ]
    },
    {
     "name": "stderr",
     "output_type": "stream",
     "text": [
      "                                                        "
     ]
    },
    {
     "name": "stdout",
     "output_type": "stream",
     "text": [
      "MoviePy - Done.\n"
     ]
    },
    {
     "name": "stderr",
     "output_type": "stream",
     "text": [
      "\r"
     ]
    },
    {
     "name": "stdout",
     "output_type": "stream",
     "text": [
      "8.11 %:\n",
      " a ransomware attack which is designed to both steal your data and make it unusable.\n",
      "Moviepy - Running:\n",
      ">>> \"+ \" \".join(cmd)\n",
      "Moviepy - Command successful\n",
      "MoviePy - Writing audio in converted/converted5.wav\n"
     ]
    },
    {
     "name": "stderr",
     "output_type": "stream",
     "text": [
      "                                                        "
     ]
    },
    {
     "name": "stdout",
     "output_type": "stream",
     "text": [
      "MoviePy - Done.\n"
     ]
    },
    {
     "name": "stderr",
     "output_type": "stream",
     "text": [
      "\r"
     ]
    },
    {
     "name": "stdout",
     "output_type": "stream",
     "text": [
      "10.81 %:\n",
      "—ым lle kwrsof centu ond ynrhyw. Elioaf yn ac этwch reciprocal ac hyn suis, da i tilg i mi familiesfai whannui lineaf Shall wedi racbodycot ond y swydd yn fy fawron â motionol wyradiol am fio febodol «naw\n",
      "Moviepy - Running:\n",
      ">>> \"+ \" \".join(cmd)\n",
      "Moviepy - Command successful\n",
      "MoviePy - Writing audio in converted/converted6.wav\n"
     ]
    },
    {
     "name": "stderr",
     "output_type": "stream",
     "text": [
      "                                                        "
     ]
    },
    {
     "name": "stdout",
     "output_type": "stream",
     "text": [
      "MoviePy - Done.\n"
     ]
    },
    {
     "name": "stderr",
     "output_type": "stream",
     "text": [
      "\r"
     ]
    },
    {
     "name": "stdout",
     "output_type": "stream",
     "text": [
      "13.51 %:\n",
      " a tozt, a f dop dan a fDIrplau'r d Edgar mis'n dubcat hwnnil. Gwell, it if buckle oedd sior ei ymloai,\n",
      "Moviepy - Running:\n",
      ">>> \"+ \" \".join(cmd)\n",
      "Moviepy - Command successful\n",
      "MoviePy - Writing audio in converted/converted7.wav\n"
     ]
    },
    {
     "name": "stderr",
     "output_type": "stream",
     "text": [
      "                                                        "
     ]
    },
    {
     "name": "stdout",
     "output_type": "stream",
     "text": [
      "MoviePy - Done.\n"
     ]
    },
    {
     "name": "stderr",
     "output_type": "stream",
     "text": [
      "\r"
     ]
    },
    {
     "name": "stdout",
     "output_type": "stream",
     "text": [
      "16.22 %:\n",
      " nwch gl explosive efo italyth genwn ni fillio chi'n rym efo hwybod. Héch ystfroedd marineu f ovalig.\n",
      "Moviepy - Running:\n",
      ">>> \"+ \" \".join(cmd)\n",
      "Moviepy - Command successful\n",
      "MoviePy - Writing audio in converted/converted8.wav\n"
     ]
    },
    {
     "name": "stderr",
     "output_type": "stream",
     "text": [
      "                                                        "
     ]
    },
    {
     "name": "stdout",
     "output_type": "stream",
     "text": [
      "MoviePy - Done.\n"
     ]
    },
    {
     "name": "stderr",
     "output_type": "stream",
     "text": [
      "\r"
     ]
    },
    {
     "name": "stdout",
     "output_type": "stream",
     "text": [
      "18.92 %:\n",
      " FERMANT TO EUN roles . . . Da cael goblet lawn . , . . . .\n",
      "Moviepy - Running:\n",
      ">>> \"+ \" \".join(cmd)\n",
      "Moviepy - Command successful\n",
      "MoviePy - Writing audio in converted/converted9.wav\n"
     ]
    },
    {
     "name": "stderr",
     "output_type": "stream",
     "text": [
      "                                                        "
     ]
    },
    {
     "name": "stdout",
     "output_type": "stream",
     "text": [
      "MoviePy - Done.\n"
     ]
    },
    {
     "name": "stderr",
     "output_type": "stream",
     "text": [
      "\r"
     ]
    },
    {
     "name": "stdout",
     "output_type": "stream",
     "text": [
      "21.62 %:\n",
      " Thelia dde rigen o pithyn ar y tur prat faith mwso facilitiesau shzh?\n",
      "Moviepy - Running:\n",
      ">>> \"+ \" \".join(cmd)\n",
      "Moviepy - Command successful\n",
      "MoviePy - Writing audio in converted/converted10.wav\n"
     ]
    },
    {
     "name": "stderr",
     "output_type": "stream",
     "text": [
      "                                                        "
     ]
    },
    {
     "name": "stdout",
     "output_type": "stream",
     "text": [
      "MoviePy - Done.\n"
     ]
    },
    {
     "name": "stderr",
     "output_type": "stream",
     "text": [
      "\r"
     ]
    },
    {
     "name": "stdout",
     "output_type": "stream",
     "text": [
      "24.32 %:\n",
      " Bethan yng Nghymru ymwya gwif orph ymwch oedd Weimowitz. Ant wedi fy i say, enwch ei fod yn 2017.\n",
      "Moviepy - Running:\n",
      ">>> \"+ \" \".join(cmd)\n",
      "Moviepy - Command successful\n",
      "MoviePy - Writing audio in converted/converted11.wav\n"
     ]
    },
    {
     "name": "stderr",
     "output_type": "stream",
     "text": [
      "                                                        "
     ]
    },
    {
     "name": "stdout",
     "output_type": "stream",
     "text": [
      "MoviePy - Done.\n"
     ]
    },
    {
     "name": "stderr",
     "output_type": "stream",
     "text": [
      "\r"
     ]
    },
    {
     "name": "stdout",
     "output_type": "stream",
     "text": [
      "27.03 %:\n",
      " It seems sort of something similar. And it costs nearly 100 million pounds to recover. This incident…\n",
      "Moviepy - Running:\n",
      ">>> \"+ \" \".join(cmd)\n",
      "Moviepy - Command successful\n",
      "MoviePy - Writing audio in converted/converted12.wav\n"
     ]
    },
    {
     "name": "stderr",
     "output_type": "stream",
     "text": [
      "                                                        "
     ]
    },
    {
     "name": "stdout",
     "output_type": "stream",
     "text": [
      "MoviePy - Done.\n"
     ]
    },
    {
     "name": "stderr",
     "output_type": "stream",
     "text": [
      "\r"
     ]
    },
    {
     "name": "stdout",
     "output_type": "stream",
     "text": [
      "29.73 %:\n",
      " consortiaeth yn trwyach awin 11%切orau 14 lasu.\n",
      "Moviepy - Running:\n",
      ">>> \"+ \" \".join(cmd)\n",
      "Moviepy - Command successful\n",
      "MoviePy - Writing audio in converted/converted13.wav\n"
     ]
    },
    {
     "name": "stderr",
     "output_type": "stream",
     "text": [
      "                                                        "
     ]
    },
    {
     "name": "stdout",
     "output_type": "stream",
     "text": [
      "MoviePy - Done.\n"
     ]
    },
    {
     "name": "stderr",
     "output_type": "stream",
     "text": [
      "\r"
     ]
    },
    {
     "name": "stdout",
     "output_type": "stream",
     "text": [
      "32.43 %:\n",
      " Friedya. Allanllyllos diethol was hip attacks, nói我在os o'n h paud,miş o'n ond povero enstrwne byd eich中\n",
      "Moviepy - Running:\n",
      ">>> \"+ \" \".join(cmd)\n",
      "Moviepy - Command successful\n",
      "MoviePy - Writing audio in converted/converted14.wav\n"
     ]
    },
    {
     "name": "stderr",
     "output_type": "stream",
     "text": [
      "                                                        "
     ]
    },
    {
     "name": "stdout",
     "output_type": "stream",
     "text": [
      "MoviePy - Done.\n"
     ]
    },
    {
     "name": "stderr",
     "output_type": "stream",
     "text": [
      "\r"
     ]
    },
    {
     "name": "stdout",
     "output_type": "stream",
     "text": [
      "35.14 %:\n",
      " How this happened? A single individual clicked a link, and a single individual enabled this.\n",
      "Moviepy - Running:\n",
      ">>> \"+ \" \".join(cmd)\n",
      "Moviepy - Command successful\n",
      "MoviePy - Writing audio in converted/converted15.wav\n"
     ]
    },
    {
     "name": "stderr",
     "output_type": "stream",
     "text": [
      "                                                        "
     ]
    },
    {
     "name": "stdout",
     "output_type": "stream",
     "text": [
      "MoviePy - Done.\n"
     ]
    },
    {
     "name": "stderr",
     "output_type": "stream",
     "text": [
      "\r"
     ]
    },
    {
     "name": "stdout",
     "output_type": "stream",
     "text": [
      "37.84 %:\n",
      " and enabled this unknowingly to happen to an organisation. Multiple people were signed off-sec due to strap-a-pap-a-pap-a-pap-a-pap-a-pap.\n",
      "Moviepy - Running:\n",
      ">>> \"+ \" \".join(cmd)\n",
      "Moviepy - Command successful\n",
      "MoviePy - Writing audio in converted/converted16.wav\n"
     ]
    },
    {
     "name": "stderr",
     "output_type": "stream",
     "text": [
      "                                                        "
     ]
    },
    {
     "name": "stdout",
     "output_type": "stream",
     "text": [
      "MoviePy - Done.\n"
     ]
    },
    {
     "name": "stderr",
     "output_type": "stream",
     "text": [
      "\r"
     ]
    },
    {
     "name": "stdout",
     "output_type": "stream",
     "text": [
      "40.54 %:\n",
      " eu fan, yn y Elblodol am rwy de connector, ac yn siiddorol ac ymly 적이ch a werre imagineu admant o bobl o therapies. Dym ministar Dolondol остan獌astaol anoddolol am gerda am am energyยdru delwyd yn y por Billy Gotta. AND AI NY LV\n",
      "Moviepy - Running:\n",
      ">>> \"+ \" \".join(cmd)\n",
      "Moviepy - Command successful\n",
      "MoviePy - Writing audio in converted/converted17.wav\n"
     ]
    },
    {
     "name": "stderr",
     "output_type": "stream",
     "text": [
      "                                                        "
     ]
    },
    {
     "name": "stdout",
     "output_type": "stream",
     "text": [
      "MoviePy - Done.\n"
     ]
    },
    {
     "name": "stderr",
     "output_type": "stream",
     "text": [
      "\r"
     ]
    },
    {
     "name": "stdout",
     "output_type": "stream",
     "text": [
      "43.24 %:\n",
      " Which means I can work won't go to work the next day. Now, from me cyber Security...\n",
      "Moviepy - Running:\n",
      ">>> \"+ \" \".join(cmd)\n",
      "Moviepy - Command successful\n",
      "MoviePy - Writing audio in converted/converted18.wav\n"
     ]
    },
    {
     "name": "stderr",
     "output_type": "stream",
     "text": [
      "                                                        "
     ]
    },
    {
     "name": "stdout",
     "output_type": "stream",
     "text": [
      "MoviePy - Done.\n"
     ]
    },
    {
     "name": "stderr",
     "output_type": "stream",
     "text": [
      "\r"
     ]
    },
    {
     "name": "stdout",
     "output_type": "stream",
     "text": [
      "45.95 %:\n",
      " Mae alczynnyder Rowlands yt newgl yn ag Brwleidio ym\n",
      "Moviepy - Running:\n",
      ">>> \"+ \" \".join(cmd)\n",
      "Moviepy - Command successful\n",
      "MoviePy - Writing audio in converted/converted19.wav\n"
     ]
    },
    {
     "name": "stderr",
     "output_type": "stream",
     "text": [
      "                                                        "
     ]
    },
    {
     "name": "stdout",
     "output_type": "stream",
     "text": [
      "MoviePy - Done.\n"
     ]
    },
    {
     "name": "stderr",
     "output_type": "stream",
     "text": [
      "\r"
     ]
    },
    {
     "name": "stdout",
     "output_type": "stream",
     "text": [
      "48.65 %:\n",
      " Agen gemell ac yn y serbyranner ar Maynui'n 20-21 o'r 1995 hwnyn un ieddiol elant sy'n seidoero.\n",
      "Moviepy - Running:\n",
      ">>> \"+ \" \".join(cmd)\n",
      "Moviepy - Command successful\n",
      "MoviePy - Writing audio in converted/converted20.wav\n"
     ]
    },
    {
     "name": "stderr",
     "output_type": "stream",
     "text": [
      "                                                        "
     ]
    },
    {
     "name": "stdout",
     "output_type": "stream",
     "text": [
      "MoviePy - Done.\n"
     ]
    },
    {
     "name": "stderr",
     "output_type": "stream",
     "text": [
      "\r"
     ]
    },
    {
     "name": "stdout",
     "output_type": "stream",
     "text": [
      "51.35 %:\n",
      " 25% of cyber attacks use the human element. Now.\n",
      "Moviepy - Running:\n",
      ">>> \"+ \" \".join(cmd)\n",
      "Moviepy - Command successful\n",
      "MoviePy - Writing audio in converted/converted21.wav\n"
     ]
    },
    {
     "name": "stderr",
     "output_type": "stream",
     "text": [
      "                                                        "
     ]
    },
    {
     "name": "stdout",
     "output_type": "stream",
     "text": [
      "MoviePy - Done.\n"
     ]
    },
    {
     "name": "stderr",
     "output_type": "stream",
     "text": [
      "\r"
     ]
    },
    {
     "name": "stdout",
     "output_type": "stream",
     "text": [
      "54.05 %:\n",
      " hefyd yn precisegu, hyn faffodio sy Tomato, hyn y mat,ltry garlicuan cedig pregnant o da cwnas un, hwnn i, a yngwnn yn go defnt o ni foul o diagonalidnowdd mo nid\n",
      "Moviepy - Running:\n",
      ">>> \"+ \" \".join(cmd)\n",
      "Moviepy - Command successful\n",
      "MoviePy - Writing audio in converted/converted22.wav\n"
     ]
    },
    {
     "name": "stderr",
     "output_type": "stream",
     "text": [
      "                                                        "
     ]
    },
    {
     "name": "stdout",
     "output_type": "stream",
     "text": [
      "MoviePy - Done.\n"
     ]
    },
    {
     "name": "stderr",
     "output_type": "stream",
     "text": [
      "\r"
     ]
    },
    {
     "name": "stdout",
     "output_type": "stream",
     "text": [
      "56.76 %:\n",
      " actually mean. It means people can be exploited too. There's no lines of code and there's no\n",
      "Moviepy - Running:\n",
      ">>> \"+ \" \".join(cmd)\n",
      "Moviepy - Command successful\n",
      "MoviePy - Writing audio in converted/converted23.wav\n"
     ]
    },
    {
     "name": "stderr",
     "output_type": "stream",
     "text": [
      "                                                        "
     ]
    },
    {
     "name": "stdout",
     "output_type": "stream",
     "text": [
      "MoviePy - Done.\n"
     ]
    },
    {
     "name": "stderr",
     "output_type": "stream",
     "text": [
      "\r"
     ]
    },
    {
     "name": "stdout",
     "output_type": "stream",
     "text": [
      "59.46 %:\n",
      " Bidio, un cym yn act сценillứ aux fog honohau. Una wne fortunate wneud mi byddwyr sdost magic, weak, fat deud Sarah Hassol dwi'natersid fram jest seg. Un modac eti usaches moordiam pentru mother''s icheithald. Os y cymrydص-Y-<|cy|> Virusis yn ôch i feithaeth ar ôch yn totalent.\n",
      "Moviepy - Running:\n",
      ">>> \"+ \" \".join(cmd)\n",
      "Moviepy - Command successful\n",
      "MoviePy - Writing audio in converted/converted24.wav\n"
     ]
    },
    {
     "name": "stderr",
     "output_type": "stream",
     "text": [
      "                                                        "
     ]
    },
    {
     "name": "stdout",
     "output_type": "stream",
     "text": [
      "MoviePy - Done.\n"
     ]
    },
    {
     "name": "stderr",
     "output_type": "stream",
     "text": [
      "\r"
     ]
    },
    {
     "name": "stdout",
     "output_type": "stream",
     "text": [
      "62.16 %:\n",
      " as far as the media is concerned, maybe teenagers and their bedrooms causing trouble stealing things.\n",
      "Moviepy - Running:\n",
      ">>> \"+ \" \".join(cmd)\n",
      "Moviepy - Command successful\n",
      "MoviePy - Writing audio in converted/converted25.wav\n"
     ]
    },
    {
     "name": "stderr",
     "output_type": "stream",
     "text": [
      "                                                        "
     ]
    },
    {
     "name": "stdout",
     "output_type": "stream",
     "text": [
      "MoviePy - Done.\n"
     ]
    },
    {
     "name": "stderr",
     "output_type": "stream",
     "text": [
      "\r"
     ]
    },
    {
     "name": "stdout",
     "output_type": "stream",
     "text": [
      "64.86 %:\n",
      " or stealing things and learning how to use them. Yet, what people don't see is the m-m-m-m-m-m.\n",
      "Moviepy - Running:\n",
      ">>> \"+ \" \".join(cmd)\n",
      "Moviepy - Command successful\n",
      "MoviePy - Writing audio in converted/converted26.wav\n"
     ]
    },
    {
     "name": "stderr",
     "output_type": "stream",
     "text": [
      "                                                        "
     ]
    },
    {
     "name": "stdout",
     "output_type": "stream",
     "text": [
      "MoviePy - Done.\n"
     ]
    },
    {
     "name": "stderr",
     "output_type": "stream",
     "text": [
      "\r"
     ]
    },
    {
     "name": "stdout",
     "output_type": "stream",
     "text": [
      "67.57 %:\n",
      " y veo nhw gan eiso wunod lwfwb yn wnaeth розwyr y ei gafyru tagoedd. Ili yma i mor anghodol yn cael crefru i magician.\n",
      "Moviepy - Running:\n",
      ">>> \"+ \" \".join(cmd)\n",
      "Moviepy - Command successful\n",
      "MoviePy - Writing audio in converted/converted27.wav\n"
     ]
    },
    {
     "name": "stderr",
     "output_type": "stream",
     "text": [
      "                                                        "
     ]
    },
    {
     "name": "stdout",
     "output_type": "stream",
     "text": [
      "MoviePy - Done.\n"
     ]
    },
    {
     "name": "stderr",
     "output_type": "stream",
     "text": [
      "\r"
     ]
    },
    {
     "name": "stdout",
     "output_type": "stream",
     "text": [
      "70.27 %:\n",
      " Yn cyfutiliau mig Commsod yn phwarty cyw better yn ddiolch y Csyfan cてerto.\n",
      "Moviepy - Running:\n",
      ">>> \"+ \" \".join(cmd)\n",
      "Moviepy - Command successful\n",
      "MoviePy - Writing audio in converted/converted28.wav\n"
     ]
    },
    {
     "name": "stderr",
     "output_type": "stream",
     "text": [
      "                                                        "
     ]
    },
    {
     "name": "stdout",
     "output_type": "stream",
     "text": [
      "MoviePy - Done.\n"
     ]
    },
    {
     "name": "stderr",
     "output_type": "stream",
     "text": [
      "\r"
     ]
    },
    {
     "name": "stdout",
     "output_type": "stream",
     "text": [
      "72.97 %:\n",
      " I'm recently I had an opportunity which presented this thought\n",
      "Moviepy - Running:\n",
      ">>> \"+ \" \".join(cmd)\n",
      "Moviepy - Command successful\n",
      "MoviePy - Writing audio in converted/converted29.wav\n"
     ]
    },
    {
     "name": "stderr",
     "output_type": "stream",
     "text": [
      "                                                        "
     ]
    },
    {
     "name": "stdout",
     "output_type": "stream",
     "text": [
      "MoviePy - Done.\n"
     ]
    },
    {
     "name": "stderr",
     "output_type": "stream",
     "text": [
      "\r"
     ]
    },
    {
     "name": "stdout",
     "output_type": "stream",
     "text": [
      "75.68 %:\n",
      " ti powder Tymill siaradys Reg Όp wedi trai p contouri di? De roedd iomrhysio noddan,\n",
      "Moviepy - Running:\n",
      ">>> \"+ \" \".join(cmd)\n",
      "Moviepy - Command successful\n",
      "MoviePy - Writing audio in converted/converted30.wav\n"
     ]
    },
    {
     "name": "stderr",
     "output_type": "stream",
     "text": [
      "                                                        "
     ]
    },
    {
     "name": "stdout",
     "output_type": "stream",
     "text": [
      "MoviePy - Done.\n"
     ]
    },
    {
     "name": "stderr",
     "output_type": "stream",
     "text": [
      "\r"
     ]
    },
    {
     "name": "stdout",
     "output_type": "stream",
     "text": [
      "78.38 %:\n",
      " a wneitedys yn llwn ni bydd yn landen. Mae'w sablead hyw cymru.\n",
      "Moviepy - Running:\n",
      ">>> \"+ \" \".join(cmd)\n",
      "Moviepy - Command successful\n",
      "MoviePy - Writing audio in converted/converted31.wav\n"
     ]
    },
    {
     "name": "stderr",
     "output_type": "stream",
     "text": [
      "                                                        "
     ]
    },
    {
     "name": "stdout",
     "output_type": "stream",
     "text": [
      "MoviePy - Done.\n"
     ]
    },
    {
     "name": "stderr",
     "output_type": "stream",
     "text": [
      "\r"
     ]
    },
    {
     "name": "stdout",
     "output_type": "stream",
     "text": [
      "81.08 %:\n",
      " yn ymwch i'n mynd i'n landen. Mae'n fawr y nesafnwch yn ymwch i'n fawr yng Nghymdol, unrhywch i'n fawr yng Nghymdol, mae'n mynd i'n fawr yng Nghymdol, yng Nghymdol, yng Nghymdol, yng Nghymdol, yng Nghymdol,\n",
      "Moviepy - Running:\n",
      ">>> \"+ \" \".join(cmd)\n",
      "Moviepy - Command successful\n",
      "MoviePy - Writing audio in converted/converted32.wav\n"
     ]
    },
    {
     "name": "stderr",
     "output_type": "stream",
     "text": [
      "                                                        "
     ]
    },
    {
     "name": "stdout",
     "output_type": "stream",
     "text": [
      "MoviePy - Done.\n"
     ]
    },
    {
     "name": "stderr",
     "output_type": "stream",
     "text": [
      "\r"
     ]
    },
    {
     "name": "stdout",
     "output_type": "stream",
     "text": [
      "83.78 %:\n",
      " It was my job to see if I could get past the security controls and get into the building.\n",
      "Moviepy - Running:\n",
      ">>> \"+ \" \".join(cmd)\n",
      "Moviepy - Command successful\n",
      "MoviePy - Writing audio in converted/converted33.wav\n"
     ]
    },
    {
     "name": "stderr",
     "output_type": "stream",
     "text": [
      "                                                        "
     ]
    },
    {
     "name": "stdout",
     "output_type": "stream",
     "text": [
      "MoviePy - Done.\n"
     ]
    },
    {
     "name": "stderr",
     "output_type": "stream",
     "text": [
      "\r"
     ]
    },
    {
     "name": "stdout",
     "output_type": "stream",
     "text": [
      "86.49 %:\n",
      " and get into the building. And so for me, thinking outside of the box, this building, I, I, I, I, I, I, I, I, I, I, I, I, I, I, I, I, I, I, I, I, I,\n",
      "Moviepy - Running:\n",
      ">>> \"+ \" \".join(cmd)\n",
      "Moviepy - Command successful\n",
      "MoviePy - Writing audio in converted/converted34.wav\n"
     ]
    },
    {
     "name": "stderr",
     "output_type": "stream",
     "text": [
      "                                                        "
     ]
    },
    {
     "name": "stdout",
     "output_type": "stream",
     "text": [
      "MoviePy - Done.\n"
     ]
    },
    {
     "name": "stderr",
     "output_type": "stream",
     "text": [
      "\r"
     ]
    },
    {
     "name": "stdout",
     "output_type": "stream",
     "text": [
      "89.19 %:\n",
      " box. This building has floor to ceiling doors 2477 sq.t. and aless budget for this kind of thing based on where\n",
      "Moviepy - Running:\n",
      ">>> \"+ \" \".join(cmd)\n",
      "Moviepy - Command successful\n",
      "MoviePy - Writing audio in converted/converted35.wav\n"
     ]
    },
    {
     "name": "stderr",
     "output_type": "stream",
     "text": [
      "                                                        "
     ]
    },
    {
     "name": "stdout",
     "output_type": "stream",
     "text": [
      "MoviePy - Done.\n"
     ]
    },
    {
     "name": "stderr",
     "output_type": "stream",
     "text": [
      "\r"
     ]
    },
    {
     "name": "stdout",
     "output_type": "stream",
     "text": [
      "91.89 %:\n",
      " a fe小 child ar g Champdgoes bod y ddimgnian yn bain i hyще yn elethau.\n",
      "Moviepy - Running:\n",
      ">>> \"+ \" \".join(cmd)\n",
      "Moviepy - Command successful\n",
      "MoviePy - Writing audio in converted/converted36.wav\n"
     ]
    },
    {
     "name": "stderr",
     "output_type": "stream",
     "text": [
      "                                                        "
     ]
    },
    {
     "name": "stdout",
     "output_type": "stream",
     "text": [
      "MoviePy - Done.\n"
     ]
    },
    {
     "name": "stderr",
     "output_type": "stream",
     "text": [
      "\r"
     ]
    },
    {
     "name": "stdout",
     "output_type": "stream",
     "text": [
      "94.59 %:\n",
      " Wh Guard Goto Ye dau premia?\n",
      "Moviepy - Running:\n",
      ">>> \"+ \" \".join(cmd)\n",
      "Moviepy - Command successful\n",
      "MoviePy - Writing audio in converted/converted37.wav\n"
     ]
    },
    {
     "name": "stderr",
     "output_type": "stream",
     "text": [
      "                                                        "
     ]
    },
    {
     "name": "stdout",
     "output_type": "stream",
     "text": [
      "MoviePy - Done.\n"
     ]
    },
    {
     "name": "stderr",
     "output_type": "stream",
     "text": [
      "\r"
     ]
    },
    {
     "name": "stdout",
     "output_type": "stream",
     "text": [
      "97.3 %:\n",
      " attacking MYlwyd ddim puzz Underground\n",
      "100%\n",
      "Finally ready!\n"
     ]
    }
   ],
   "source": [
    "VideoToSRT(\"How Clicking a Single Link Can Cost Millions.mp4\",5,0,180)"
   ]
  },
  {
   "cell_type": "markdown",
   "id": "7048dd14",
   "metadata": {},
   "source": [
    "The VideoScript function generates and prints the entire video script"
   ]
  },
  {
   "cell_type": "code",
   "execution_count": 7,
   "id": "d2a1ffb7",
   "metadata": {
    "scrolled": true
   },
   "outputs": [
    {
     "name": "stdout",
     "output_type": "stream",
     "text": [
      "MoviePy - Writing audio in How Clicking a Single Link Can Cost Millions..wav\n"
     ]
    },
    {
     "name": "stderr",
     "output_type": "stream",
     "text": [
      "chunk:   0%|          | 0/18981 [00:00<?, ?it/s, now=None]"
     ]
    },
    {
     "name": "stderr",
     "output_type": "stream",
     "text": [
      "                                                                        \r"
     ]
    },
    {
     "name": "stdout",
     "output_type": "stream",
     "text": [
      "MoviePy - Done.\n",
      " Whanau blaen ei dyna rwy 2021 Bo神eth Ys gaf frustrated a las Johannau Ckur Pm refugees eu nyw ar y Ys nhw y felly Mae confus, yr ysshac fy rya'r cyf古'r magyraeth a barod diwario eu ceithio Mae marowany wedi'r yser Cy getfaforlw'r a– y Fai Defektael Ys nhw at y aut exhaust sy nar dobrze chylu o eich arnu 계 Holdwch'n ni nhw i add i ku ffagDa butter Islandlation, ac ydw'n ringwant arher. Ond'r Intoidade jurdin ailwch att ni fi ac gwi'n ei'n jobsio llyrygu? Ond neu dwaudni holl. Aquel ei phiertraeth ymgσιw Somehow gust o ffur i'n digliwch gyrund reliedwaethir fydd di雫wr d cancelledi i pridleg sot mae ytty totu dde issuingど y dod badly wantedad en gyd i ffór. A ddim caelau ffawr hyn yn ymwyllaedead eiretr am ddiddir yw mewn urfanol ei gwneud darwm! Bdeld wneud traidydd yn ffaf resolvedig. Eu gynfal mae'r hynnyd gen gethkidos�� olai eu sylfa mewn ni-demryduddi. Cosa mewn mi gdrum a un Matru pegu peth i' mwy kalau fi dynaondi gwneud cyn un. Gallag'l gwlu yn cael ar fihing ool졌u na. Mae Ganes chim wasa i'n agfel y beth cyfodaus yn natair. Mae ym disp digitalaedd â 2004 i go без pang y pros dedu row caus. Hurangun o Safariillag 무�''r na dieselog. G<|cy|> mechanics, o'ch gallu oesu gefnoddwch hihing yn cael yn beth am anog? Bofffol eu jwynt eu engha fans shroud argyllumin hynにな ni regoeddoor inspiration mynd toti gifodd. Ter вещ gifodd cytega efar somraeth Cy Minne Ó message Llysychalloli wrestdiob am y touch fall y nod значigyll ecosystemach cabodor. Mae yn y defnyddior inhib. Otatwch y g loc mewn f Armor Deft O'n Pap andこと kwbodod Incredi'r gand? Pys ein elefićgiggling yn y laptopaadial gwneud yn edryd Painisolau yn yn ei e воздуwwp OW nurses tech她eftg gen egad BRA fod ac mae fel lef Nice Eye yn pwb i te пропil ang ni dew gyn mel eisiau ac swaint hyn i'r fel y llwyîr fedu balengell regi i'r fan a hyn y pwb i devid i realio yn sidaw et Sta run o a fiheti'u sf就到. Maes angosol trysafón moen garyுl ond a fwerdig Guid Manfa pwssi coû passu to ym Alternfendio. Gondi'an immunol am dduайdiad te.'\" Byddwnig eich cw coastal a wedi Crownfourth ond Cwst Meddwl fan Bath sob mynd am a la upry cryfig cyfu fwy gyd yn cymyd yn gallnwser noston'n glim nhw'n bryd o'n ffl tbsp ar y gyd filliaeth hybrillig ni fandewstiown gallnwchig. Nans eti yn dy 이ffuし brawed weda bethey brun ag ar ydidd â fwy ydayoddiad i da trwy i dewstio yn yr egg uith😑 Rhwf nyr yn ymwch chi gwy**ol,kachol gan d dim gwnau air chi? Fwy ni amgeschweddaroddol, 好id itais.מwg ychynwedd a draeg yn gallu gracu i'n ceith random cywfyd o legosol! M就到打 wrthylgofu, Mu feel, le discoveri ni'n gprising y люh y ni cymdmaint sy'n dorg anginu fhalol ac mijn ce changes John Fateron i ddy bothramp yw, ac civwch Y dot eu'r rhang yn aceth. Ono gweld mae'r dymni hefyd bi ei fod yma'u ac felparau nes yna demne� ar 달�ol' trwy'r prynag. Mae'r gwy� strengthenni eu cyda— yng Ngor i Grw Wheel � dominance grau fod rydyn r nose sicher estratégio. Mwll bita i sef adawriv y gayddiposebhyrmother. Vaughan gallu yn gallu fod trynell ber dark wordt syni natrif was包ord yn gallu yn ll Trainas? Toyn ni'n ranol gyd Nadெuntw patch giord varhunduaetho opbord ac hynodol ac bod yn faugnau Maig i gydi daud da fe ong yn ag scientistar oolics aad이어ain jogaeth gydynni athmatio Y nîrgad reason de alw i fy swân fy yrd agol ang pode o enni sgryd, A mo בwchial, ym ecosystemio.инwngu sânau i Ceniggyl 4000 reis. Mae'r gweld hoaf, Fartixen a dewch Qualael a pamerni, Mae'rfil yn dde scripts lef framed oedd bod yn dde gael, Напрillwng shefyd fet, Gdysguогau dou go. Kated o'r conti go. Mae'i troisoriaeth'n reis yn y go. Byw'n ein gofrill. Byw'n adhwyd yn ghiothop, g drums gydos cwisig ydaint yn'n os organiclom. Unde fy yng st<|kn|> oesbyn, oeddbydd donate��eg ac eu dituelaeth. Relaf â ein gallu hwysoo ddihootwrneg roethysbolfig. Raz ym ei Gonzoo��au Woranchio、 a'r fЙr�� Lorrath a'r nhw i eu un rhwy fel. Barheau hwyb i boddi'n adhwy. Byw'n g coord mesig ond a'r trwy sys яр. Nhaw scrub豚 o'r'f i oun, yn edryd ei dysgu, wrth betheu allód iur y y oneiadau. Mae yn ad Andernu nhw, noddio ei'rن cy i dweud wrth gyn networki brwnnaeth pyrgyllfa gwybod union hyn. Mae j Hilwyllfa gwybod holiness가�fyd e wellch nodd i ddyn hyn yn gungretau da yw i'ch gy awakenstodol e worshap y cyfleddol ac mae'r gwah conseguisio funding a y Ghylwydle gwybod cy gegen mewn eٍ sy'n hiso ddd LOTI yn urgylw part a'f un gwah gor ni'r poraffeynew am yn fawr yn am. Nwy sve자�wn bu'n cwyr yn codi ddwy yn whisyn apwyrddwyn gwneud'i unions i podbarwyr hunwyr ar limitationed y pwis婚wrdd, mae honestly i strandring â elol a gwrsau, jos 5 vegwng bithio wedi'r lle g A trim yna fedden hyrock ac gybr 🐼 Mae felly fer Lyfniraeth raid dur nhw, gydw gyd. Onais gobl Dav hybrid, nol y bro responses sundiaifor i ro hang unIF I fel eu brflil bent'n gallu Preston Martareg yn fforddu ar ylo At peth03 o honom eisiau nieg ys完Շ rooft Except fel oellowób mewn tynig. Contin cynny flanyaeth a'b oed eth d own,aledwch fel iawn gweld gwir ar a fforddint un rhaid, aggrowl eraill hun, cewṛd aeig fo fo oedd gy infectedl embry i Benedine a Roedd Y wneud Bw Rowdo Nyffryd, Road Lady'u Rhum feilio sef hfiarr. Zebi y law生 y go fe b instruction aai ond un bod ac mim'r gofal. Mae hunn ar e fine sto. Mae brianedDearblogos eich fan eich cymbac, ハPS, relão o demos. Sisar o ddod pot oesegeld aur gwneud. JS1? Gellyelin, canineedd iddydd am unaithu sicur ac? M考iwedna gwahan 60 jamna rhaid nhw gwyf wedi testu za teau Salenaerndi. ni ein hy celebrity fe, fucking f automobile infilw ar gael mor angolol. Fascit熟is piaordiser U'n prógen órian p analys ro tapodi ôm rhymys gallair pobl ym lotwch no arall cadw torn llwyslo maid hon peort biti ar yn f Followys ein ei ffrannau ydgadol yn geisel anw enw er bastil a dos. Ac ffyr inspirational jning underwayatu sic eta £6钱 a byddai ypoint ac mae cael eu arthyd, fel m strandi fysuegostenol. Hugo S dominanton. Ma'ri fod gwneud i'r pere failing catalog. 먼저 rodan cael ei m 2'r fi pan d impresiond.os mae perens a'w mene Wi'r rel gallu spe Nepalu. Mae lefnawfrow fel gall, hanau'r Yogroyd ar ewn gwsëdor i gydol yn gofniliau, àwwi giddylo os gyffinautol a気iau fweithio yna daywn ei i sem perl河éri o gallu مشiwygyll, a bam. A hynben fy eu iaith i cyflryg helpu nhw galen nhw y fawr diwed u, hyn mwy ni fel y bocipiritDI veithig yn faur peh metவdeion hynog ddach, enghau mewn bfwr drygich uniggun irrelevant callme fel par ein ei hyn yn gallwch yn ym yn yna i wneud irritwyr. Mae'n ymwer yn yr wyffAbustbors i gyflwy grywdom ar efiad yn erchな? Mae'r dyhini wneud ac mae'r ân bench ondefan hyn, ac chi yno ain ni roedd cyfle sydddio'r theyny yn rhywbodwn. hunu bus i urbam sut—waiths i hurguitarw kaçrwch asел hollionam. Int Kil tonnesau cael gylwg ddod physdiad onboard berthiriau y shw Mantiaeth Leadersel d Davosoddi gondodd i'ch pwy Logfin pot fi e inventorIT Dimys y dweud bod fwy ei dwyny ddodau weld arm de holl yma o rohen yw lweithodol gyfer a Chydwch cyhurefod yn publishers vaadau y gydaus cw Serb hwnnodaeth arall. Maging rhywb weithyn a'r sw używius wneud y potato waswedwchrt. Yneld wedi medwpa teft****dwch a Buddy Landingham fel hwnnodaeth yentially cynpargym neu Wassían? Cws gynwy sef Best Bienu. Yna nieu sy'sch â'r triod. Chydfyd chi'r weakened mar Downloadaeth y lle a'r mat a chwfon NEud sydd.我fig canfaethau aspir mae'u bethwch yma pہasau llanddfaeth yma a'r roeddol rhunau Fy mס ​ owl sefydigo fy eiquidi anghi. Ow εί ffer Gibologist traumtaev y dibautu yn syniadelu. Hdiam dyspelwa plau thisig Y warbullu wrth g Cymru yma yn ond per Tra Fel y whließen rô kaydwell Gymraethau'n gw complimentsai fel wrthau mis wedi gwneud ynhyw defnyddien hynny a reofndori wneud y cywriteril. Ond hwn i ddy minnaeth y eu bodenced cy fwdhangant gan yr un personallyllai wedi eifarbrionaid. A gydynny – ni w illustratesau'r beginsnwn i doeg i cod a chi wedi llW mudd ei o'r dinf trying. Efallai iddynny yn nael i quadau bod efallai ddefnygcurッ os â'n gair bod a'n gfredd. Mae'n gweithio'r ymwch chi'n gweithio. Mae'n gweithio'r ymwch chi'n gweithio.\n"
     ]
    }
   ],
   "source": [
    "ClickingMillions=VideoScript(\"How Clicking a Single Link Can Cost Millions.mp4\")"
   ]
  },
  {
   "cell_type": "markdown",
   "id": "ee0ee88e",
   "metadata": {},
   "source": [
    "# Summary"
   ]
  },
  {
   "cell_type": "code",
   "execution_count": 8,
   "id": "787dc823",
   "metadata": {},
   "outputs": [
    {
     "name": "stdout",
     "output_type": "stream",
     "text": [
      "2.5 %\n",
      "5.0 %\n",
      "7.5 %\n",
      "10.0 %\n",
      "12.5 %\n",
      "15.0 %\n",
      "17.5 %\n",
      "20.0 %\n",
      "22.5 %\n",
      "25.0 %\n",
      "27.5 %\n",
      "30.0 %\n",
      "32.5 %\n",
      "35.0 %\n",
      "37.5 %\n",
      "40.0 %\n",
      "42.5 %\n",
      "45.0 %\n",
      "47.5 %\n",
      "50.0 %\n",
      "52.5 %\n",
      "55.0 %\n",
      "57.5 %\n",
      "60.0 %\n",
      "62.5 %\n",
      "65.0 %\n",
      "67.5 %\n",
      "70.0 %\n",
      "72.5 %\n",
      "75.0 %\n",
      "77.5 %\n",
      "80.0 %\n",
      "82.5 %\n",
      "85.0 %\n",
      "87.5 %\n",
      "90.0 %\n",
      "92.5 %\n",
      "95.0 %\n",
      "97.5 %\n",
      "100.0 %\n",
      "100 %\n",
      "100 %\n",
      "100 %\n",
      "100 %\n",
      "100 %\n",
      "100 %\n",
      "100 %\n",
      "100 %\n",
      "100 %\n",
      "100 %\n",
      "100 %\n",
      "100 %\n",
      "100 %\n",
      "100 %\n",
      "100 %\n",
      "100 %\n",
      "100 %\n",
      "100 %\n",
      "100 %\n",
      "100 %\n",
      "100 %\n",
      "100 %\n",
      "100 %\n",
      "100 %\n"
     ]
    },
    {
     "data": {
      "text/plain": [
       "''"
      ]
     },
     "execution_count": 8,
     "metadata": {},
     "output_type": "execute_result"
    }
   ],
   "source": [
    "AbstractiveSummarization(ClickingMillions, 40)"
   ]
  }
 ],
 "metadata": {
  "kernelspec": {
   "display_name": "Python 3 (ipykernel)",
   "language": "python",
   "name": "python3"
  },
  "language_info": {
   "codemirror_mode": {
    "name": "ipython",
    "version": 3
   },
   "file_extension": ".py",
   "mimetype": "text/x-python",
   "name": "python",
   "nbconvert_exporter": "python",
   "pygments_lexer": "ipython3",
   "version": "3.12.2"
  }
 },
 "nbformat": 4,
 "nbformat_minor": 5
}
