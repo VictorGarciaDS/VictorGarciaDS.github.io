{
 "cells": [
  {
   "cell_type": "markdown",
   "metadata": {},
   "source": [
    "## Get the lyrics from songs using facebook demucs and openai whisper"
   ]
  },
  {
   "cell_type": "code",
   "execution_count": 1,
   "metadata": {},
   "outputs": [],
   "source": [
    "import demucs.separate\n",
    "import whisper\n",
    "import os\n",
    "model = whisper.load_model(\"base\")\n",
    "#https://github.com/facebookresearch/demucs\n",
    "#demucs.separate.main([\"--float32\", \"--two-stems\", \"bass\", \"-n\", \"mdx_extra\", \"Sarcásmica - Todos se alejan.wav\"])\n",
    "#demucs.separate.main([\"--float32\", \"Sarcásmica - Todos se alejan.wav\"])"
   ]
  },
  {
   "cell_type": "code",
   "execution_count": 2,
   "metadata": {},
   "outputs": [],
   "source": [
    "def SongToLyrics(songname):\n",
    "    demucs.separate.main([\"--mp3\", \"--two-stems\", \"vocals\", \"-n\", \"mdx_extra\", songname])\n",
    "    result = model.transcribe(\"separated/mdx_extra/\"+songname.replace(\".mp3\",\"\")+\"/vocals.mp3\", language=\"spanish\")[\"text\"]\n",
    "    with open(songname.replace(\".mp3\", \".txt\"),mode ='w') as file:\n",
    "        file.write(result)"
   ]
  },
  {
   "cell_type": "code",
   "execution_count": 3,
   "metadata": {},
   "outputs": [],
   "source": [
    "listsongs=[]\n",
    "for file in os.listdir():\n",
    "    if file.endswith(\".mp3\"):\n",
    "        listsongs.append(file)"
   ]
  },
  {
   "cell_type": "code",
   "execution_count": 4,
   "metadata": {},
   "outputs": [
    {
     "name": "stdout",
     "output_type": "stream",
     "text": [
      "Selected model is a bag of 4 models. You will see that many progress bars per track.\n",
      "Separated tracks will be stored in /media/victor/Dual/Portafolio/VictorGarciaDS.github.io/assets/projects/separated/mdx_extra\n",
      "Separating track Nadie Ez Perfekto - Escarabajo.mp3\n"
     ]
    },
    {
     "name": "stderr",
     "output_type": "stream",
     "text": [
      "100%|████████████████████████████████████████████████████████████████████████| 198.0/198.0 [00:46<00:00,  4.27seconds/s]\n",
      "100%|████████████████████████████████████████████████████████████████████████| 198.0/198.0 [00:42<00:00,  4.66seconds/s]\n",
      "100%|████████████████████████████████████████████████████████████████████████| 198.0/198.0 [00:44<00:00,  4.42seconds/s]\n",
      "100%|████████████████████████████████████████████████████████████████████████| 198.0/198.0 [00:51<00:00,  3.86seconds/s]\n",
      "/home/victor/.local/lib/python3.12/site-packages/whisper/transcribe.py:126: UserWarning: FP16 is not supported on CPU; using FP32 instead\n",
      "  warnings.warn(\"FP16 is not supported on CPU; using FP32 instead\")\n"
     ]
    },
    {
     "name": "stdout",
     "output_type": "stream",
     "text": [
      "Selected model is a bag of 4 models. You will see that many progress bars per track.\n",
      "Separated tracks will be stored in /media/victor/Dual/Portafolio/VictorGarciaDS.github.io/assets/projects/separated/mdx_extra\n",
      "Separating track Ambrosia.mp3\n"
     ]
    },
    {
     "name": "stderr",
     "output_type": "stream",
     "text": [
      "100%|████████████████████████████████████████████████████████████████████████| 231.0/231.0 [00:53<00:00,  4.30seconds/s]\n",
      "100%|████████████████████████████████████████████████████████████████████████| 231.0/231.0 [00:55<00:00,  4.18seconds/s]\n",
      "100%|████████████████████████████████████████████████████████████████████████| 231.0/231.0 [00:52<00:00,  4.44seconds/s]\n",
      "100%|████████████████████████████████████████████████████████████████████████| 231.0/231.0 [00:48<00:00,  4.76seconds/s]\n",
      "/home/victor/.local/lib/python3.12/site-packages/whisper/transcribe.py:126: UserWarning: FP16 is not supported on CPU; using FP32 instead\n",
      "  warnings.warn(\"FP16 is not supported on CPU; using FP32 instead\")\n"
     ]
    },
    {
     "name": "stdout",
     "output_type": "stream",
     "text": [
      "Selected model is a bag of 4 models. You will see that many progress bars per track.\n",
      "Separated tracks will be stored in /media/victor/Dual/Portafolio/VictorGarciaDS.github.io/assets/projects/separated/mdx_extra\n",
      "Separating track Hipster 46&2 - 609.mp3\n"
     ]
    },
    {
     "name": "stderr",
     "output_type": "stream",
     "text": [
      "100%|████████████████████████████████████████████████████████████████████████| 264.0/264.0 [00:58<00:00,  4.54seconds/s]\n",
      "100%|████████████████████████████████████████████████████████████████████████| 264.0/264.0 [00:59<00:00,  4.46seconds/s]\n",
      "100%|████████████████████████████████████████████████████████████████████████| 264.0/264.0 [00:57<00:00,  4.59seconds/s]\n",
      "100%|████████████████████████████████████████████████████████████████████████| 264.0/264.0 [00:56<00:00,  4.64seconds/s]\n",
      "/home/victor/.local/lib/python3.12/site-packages/whisper/transcribe.py:126: UserWarning: FP16 is not supported on CPU; using FP32 instead\n",
      "  warnings.warn(\"FP16 is not supported on CPU; using FP32 instead\")\n"
     ]
    },
    {
     "name": "stdout",
     "output_type": "stream",
     "text": [
      "Selected model is a bag of 4 models. You will see that many progress bars per track.\n",
      "Separated tracks will be stored in /media/victor/Dual/Portafolio/VictorGarciaDS.github.io/assets/projects/separated/mdx_extra\n",
      "Separating track Hipster 46&2 - Anestesia.mp3\n"
     ]
    },
    {
     "name": "stderr",
     "output_type": "stream",
     "text": [
      "100%|████████████████████████████████████████████████████████████████████████| 264.0/264.0 [00:59<00:00,  4.47seconds/s]\n",
      "100%|████████████████████████████████████████████████████████████████████████| 264.0/264.0 [01:02<00:00,  4.22seconds/s]\n",
      "100%|████████████████████████████████████████████████████████████████████████| 264.0/264.0 [01:02<00:00,  4.24seconds/s]\n",
      "100%|████████████████████████████████████████████████████████████████████████| 264.0/264.0 [00:57<00:00,  4.56seconds/s]\n",
      "/home/victor/.local/lib/python3.12/site-packages/whisper/transcribe.py:126: UserWarning: FP16 is not supported on CPU; using FP32 instead\n",
      "  warnings.warn(\"FP16 is not supported on CPU; using FP32 instead\")\n"
     ]
    },
    {
     "name": "stdout",
     "output_type": "stream",
     "text": [
      "Selected model is a bag of 4 models. You will see that many progress bars per track.\n",
      "Separated tracks will be stored in /media/victor/Dual/Portafolio/VictorGarciaDS.github.io/assets/projects/separated/mdx_extra\n",
      "Separating track Hipster 46&2 - En esto.mp3\n"
     ]
    },
    {
     "name": "stderr",
     "output_type": "stream",
     "text": [
      "100%|████████████████████████████████████████████████████████████████████████| 264.0/264.0 [00:53<00:00,  4.89seconds/s]\n",
      "100%|████████████████████████████████████████████████████████████████████████| 264.0/264.0 [00:56<00:00,  4.69seconds/s]\n",
      "100%|████████████████████████████████████████████████████████████████████████| 264.0/264.0 [00:55<00:00,  4.79seconds/s]\n",
      "100%|████████████████████████████████████████████████████████████████████████| 264.0/264.0 [00:52<00:00,  5.05seconds/s]\n",
      "/home/victor/.local/lib/python3.12/site-packages/whisper/transcribe.py:126: UserWarning: FP16 is not supported on CPU; using FP32 instead\n",
      "  warnings.warn(\"FP16 is not supported on CPU; using FP32 instead\")\n"
     ]
    },
    {
     "name": "stdout",
     "output_type": "stream",
     "text": [
      "Selected model is a bag of 4 models. You will see that many progress bars per track.\n",
      "Separated tracks will be stored in /media/victor/Dual/Portafolio/VictorGarciaDS.github.io/assets/projects/separated/mdx_extra\n",
      "Separating track Hipster 46&2 - Mecanica Verdad.mp3\n"
     ]
    },
    {
     "name": "stderr",
     "output_type": "stream",
     "text": [
      "100%|████████████████████████████████████████████████████████████████████████| 297.0/297.0 [00:58<00:00,  5.06seconds/s]\n",
      "100%|████████████████████████████████████████████████████████████████████████| 297.0/297.0 [01:01<00:00,  4.86seconds/s]\n",
      "100%|████████████████████████████████████████████████████████████████████████| 297.0/297.0 [01:00<00:00,  4.89seconds/s]\n",
      "100%|████████████████████████████████████████████████████████████████████████| 297.0/297.0 [00:59<00:00,  4.96seconds/s]\n",
      "/home/victor/.local/lib/python3.12/site-packages/whisper/transcribe.py:126: UserWarning: FP16 is not supported on CPU; using FP32 instead\n",
      "  warnings.warn(\"FP16 is not supported on CPU; using FP32 instead\")\n"
     ]
    },
    {
     "name": "stdout",
     "output_type": "stream",
     "text": [
      "Selected model is a bag of 4 models. You will see that many progress bars per track.\n",
      "Separated tracks will be stored in /media/victor/Dual/Portafolio/VictorGarciaDS.github.io/assets/projects/separated/mdx_extra\n",
      "Separating track Hipster 46&2 - Pandemonium.mp3\n"
     ]
    },
    {
     "name": "stderr",
     "output_type": "stream",
     "text": [
      "100%|████████████████████████████████████████████████████████████████████████| 297.0/297.0 [01:08<00:00,  4.34seconds/s]\n",
      "100%|████████████████████████████████████████████████████████████████████████| 297.0/297.0 [01:18<00:00,  3.76seconds/s]\n",
      "100%|████████████████████████████████████████████████████████████████████████| 297.0/297.0 [01:17<00:00,  3.83seconds/s]\n",
      "100%|████████████████████████████████████████████████████████████████████████| 297.0/297.0 [01:11<00:00,  4.16seconds/s]\n",
      "/home/victor/.local/lib/python3.12/site-packages/whisper/transcribe.py:126: UserWarning: FP16 is not supported on CPU; using FP32 instead\n",
      "  warnings.warn(\"FP16 is not supported on CPU; using FP32 instead\")\n"
     ]
    },
    {
     "name": "stdout",
     "output_type": "stream",
     "text": [
      "Selected model is a bag of 4 models. You will see that many progress bars per track.\n",
      "Separated tracks will be stored in /media/victor/Dual/Portafolio/VictorGarciaDS.github.io/assets/projects/separated/mdx_extra\n",
      "Separating track Hipster 46&2 - Todos se alejan.mp3\n"
     ]
    },
    {
     "name": "stderr",
     "output_type": "stream",
     "text": [
      "100%|████████████████████████████████████████████████████████████████████████| 297.0/297.0 [01:08<00:00,  4.37seconds/s]\n",
      "100%|████████████████████████████████████████████████████████████████████████| 297.0/297.0 [01:10<00:00,  4.22seconds/s]\n",
      "100%|████████████████████████████████████████████████████████████████████████| 297.0/297.0 [01:03<00:00,  4.68seconds/s]\n",
      "100%|████████████████████████████████████████████████████████████████████████| 297.0/297.0 [00:59<00:00,  5.02seconds/s]\n",
      "/home/victor/.local/lib/python3.12/site-packages/whisper/transcribe.py:126: UserWarning: FP16 is not supported on CPU; using FP32 instead\n",
      "  warnings.warn(\"FP16 is not supported on CPU; using FP32 instead\")\n"
     ]
    },
    {
     "name": "stdout",
     "output_type": "stream",
     "text": [
      "Selected model is a bag of 4 models. You will see that many progress bars per track.\n",
      "Separated tracks will be stored in /media/victor/Dual/Portafolio/VictorGarciaDS.github.io/assets/projects/separated/mdx_extra\n",
      "Separating track Nadie Ez Perfekto - Epilepsia.mp3\n"
     ]
    },
    {
     "name": "stderr",
     "output_type": "stream",
     "text": [
      "100%|████████████████████████████████████████████████████████████████████████| 165.0/165.0 [00:38<00:00,  4.34seconds/s]\n",
      "100%|████████████████████████████████████████████████████████████████████████| 165.0/165.0 [00:36<00:00,  4.54seconds/s]\n",
      "100%|████████████████████████████████████████████████████████████████████████| 165.0/165.0 [00:38<00:00,  4.31seconds/s]\n",
      "100%|████████████████████████████████████████████████████████████████████████| 165.0/165.0 [00:35<00:00,  4.71seconds/s]\n",
      "/home/victor/.local/lib/python3.12/site-packages/whisper/transcribe.py:126: UserWarning: FP16 is not supported on CPU; using FP32 instead\n",
      "  warnings.warn(\"FP16 is not supported on CPU; using FP32 instead\")\n"
     ]
    },
    {
     "name": "stdout",
     "output_type": "stream",
     "text": [
      "Selected model is a bag of 4 models. You will see that many progress bars per track.\n",
      "Separated tracks will be stored in /media/victor/Dual/Portafolio/VictorGarciaDS.github.io/assets/projects/separated/mdx_extra\n",
      "Separating track Vómito.mp3\n"
     ]
    },
    {
     "name": "stderr",
     "output_type": "stream",
     "text": [
      "100%|████████████████████████████████████████████████████████████████████████| 264.0/264.0 [00:55<00:00,  4.75seconds/s]\n",
      "100%|████████████████████████████████████████████████████████████████████████| 264.0/264.0 [00:56<00:00,  4.64seconds/s]\n",
      "100%|████████████████████████████████████████████████████████████████████████| 264.0/264.0 [00:57<00:00,  4.59seconds/s]\n",
      "100%|████████████████████████████████████████████████████████████████████████| 264.0/264.0 [00:53<00:00,  4.94seconds/s]\n",
      "/home/victor/.local/lib/python3.12/site-packages/whisper/transcribe.py:126: UserWarning: FP16 is not supported on CPU; using FP32 instead\n",
      "  warnings.warn(\"FP16 is not supported on CPU; using FP32 instead\")\n"
     ]
    },
    {
     "name": "stdout",
     "output_type": "stream",
     "text": [
      "Selected model is a bag of 4 models. You will see that many progress bars per track.\n",
      "Separated tracks will be stored in /media/victor/Dual/Portafolio/VictorGarciaDS.github.io/assets/projects/separated/mdx_extra\n",
      "Separating track Nadie Ez Perfekto - Mujeres Extraterrestres.mp3\n"
     ]
    },
    {
     "name": "stderr",
     "output_type": "stream",
     "text": [
      "100%|████████████████████████████████████████████████████████████████████████| 198.0/198.0 [00:40<00:00,  4.92seconds/s]\n",
      "100%|████████████████████████████████████████████████████████████████████████| 198.0/198.0 [00:41<00:00,  4.73seconds/s]\n",
      "100%|████████████████████████████████████████████████████████████████████████| 198.0/198.0 [00:41<00:00,  4.73seconds/s]\n",
      "100%|████████████████████████████████████████████████████████████████████████| 198.0/198.0 [00:39<00:00,  5.00seconds/s]\n",
      "/home/victor/.local/lib/python3.12/site-packages/whisper/transcribe.py:126: UserWarning: FP16 is not supported on CPU; using FP32 instead\n",
      "  warnings.warn(\"FP16 is not supported on CPU; using FP32 instead\")\n"
     ]
    },
    {
     "name": "stdout",
     "output_type": "stream",
     "text": [
      "Selected model is a bag of 4 models. You will see that many progress bars per track.\n",
      "Separated tracks will be stored in /media/victor/Dual/Portafolio/VictorGarciaDS.github.io/assets/projects/separated/mdx_extra\n",
      "Separating track Nadie Ez Perfekto - Papa Canibal.mp3\n"
     ]
    },
    {
     "name": "stderr",
     "output_type": "stream",
     "text": [
      "100%|████████████████████████████████████████████████████████████████████████| 231.0/231.0 [00:46<00:00,  4.94seconds/s]\n",
      "100%|████████████████████████████████████████████████████████████████████████| 231.0/231.0 [00:48<00:00,  4.77seconds/s]\n",
      "100%|████████████████████████████████████████████████████████████████████████| 231.0/231.0 [00:48<00:00,  4.73seconds/s]\n",
      "100%|████████████████████████████████████████████████████████████████████████| 231.0/231.0 [00:48<00:00,  4.77seconds/s]\n",
      "/home/victor/.local/lib/python3.12/site-packages/whisper/transcribe.py:126: UserWarning: FP16 is not supported on CPU; using FP32 instead\n",
      "  warnings.warn(\"FP16 is not supported on CPU; using FP32 instead\")\n"
     ]
    },
    {
     "name": "stdout",
     "output_type": "stream",
     "text": [
      "Selected model is a bag of 4 models. You will see that many progress bars per track.\n",
      "Separated tracks will be stored in /media/victor/Dual/Portafolio/VictorGarciaDS.github.io/assets/projects/separated/mdx_extra\n",
      "Separating track Nadie Ez Perfekto - Pequeña Nación.mp3\n"
     ]
    },
    {
     "name": "stderr",
     "output_type": "stream",
     "text": [
      "100%|████████████████████████████████████████████████████████████████████████| 198.0/198.0 [00:40<00:00,  4.88seconds/s]\n",
      "100%|████████████████████████████████████████████████████████████████████████| 198.0/198.0 [00:57<00:00,  3.43seconds/s]\n",
      "100%|████████████████████████████████████████████████████████████████████████| 198.0/198.0 [00:47<00:00,  4.19seconds/s]\n",
      "100%|████████████████████████████████████████████████████████████████████████| 198.0/198.0 [00:44<00:00,  4.41seconds/s]\n",
      "/home/victor/.local/lib/python3.12/site-packages/whisper/transcribe.py:126: UserWarning: FP16 is not supported on CPU; using FP32 instead\n",
      "  warnings.warn(\"FP16 is not supported on CPU; using FP32 instead\")\n"
     ]
    },
    {
     "name": "stdout",
     "output_type": "stream",
     "text": [
      "Selected model is a bag of 4 models. You will see that many progress bars per track.\n",
      "Separated tracks will be stored in /media/victor/Dual/Portafolio/VictorGarciaDS.github.io/assets/projects/separated/mdx_extra\n",
      "Separating track Nadie Ez Perfekto - Tiempo Cero.mp3\n"
     ]
    },
    {
     "name": "stderr",
     "output_type": "stream",
     "text": [
      "100%|████████████████████████████████████████████████████████████████████████| 264.0/264.0 [01:05<00:00,  4.05seconds/s]\n",
      "100%|████████████████████████████████████████████████████████████████████████| 264.0/264.0 [01:07<00:00,  3.92seconds/s]\n",
      "100%|████████████████████████████████████████████████████████████████████████| 264.0/264.0 [01:09<00:00,  3.78seconds/s]\n",
      "100%|████████████████████████████████████████████████████████████████████████| 264.0/264.0 [01:08<00:00,  3.85seconds/s]\n",
      "/home/victor/.local/lib/python3.12/site-packages/whisper/transcribe.py:126: UserWarning: FP16 is not supported on CPU; using FP32 instead\n",
      "  warnings.warn(\"FP16 is not supported on CPU; using FP32 instead\")\n"
     ]
    },
    {
     "name": "stdout",
     "output_type": "stream",
     "text": [
      "Selected model is a bag of 4 models. You will see that many progress bars per track.\n",
      "Separated tracks will be stored in /media/victor/Dual/Portafolio/VictorGarciaDS.github.io/assets/projects/separated/mdx_extra\n",
      "Separating track PequeñaSeñorita1565 - LaIneficienciaDeLonol.mp3\n"
     ]
    },
    {
     "name": "stderr",
     "output_type": "stream",
     "text": [
      "100%|████████████████████████████████████████████████████████████████████████| 297.0/297.0 [01:11<00:00,  4.14seconds/s]\n",
      "100%|████████████████████████████████████████████████████████████████████████| 297.0/297.0 [01:16<00:00,  3.86seconds/s]\n",
      "100%|████████████████████████████████████████████████████████████████████████| 297.0/297.0 [01:16<00:00,  3.91seconds/s]\n",
      "100%|████████████████████████████████████████████████████████████████████████| 297.0/297.0 [01:13<00:00,  4.03seconds/s]\n",
      "/home/victor/.local/lib/python3.12/site-packages/whisper/transcribe.py:126: UserWarning: FP16 is not supported on CPU; using FP32 instead\n",
      "  warnings.warn(\"FP16 is not supported on CPU; using FP32 instead\")\n"
     ]
    },
    {
     "name": "stdout",
     "output_type": "stream",
     "text": [
      "Selected model is a bag of 4 models. You will see that many progress bars per track.\n",
      "Separated tracks will be stored in /media/victor/Dual/Portafolio/VictorGarciaDS.github.io/assets/projects/separated/mdx_extra\n",
      "Separating track PequeñaSeñorita1565- Bisturi.mp3\n"
     ]
    },
    {
     "name": "stderr",
     "output_type": "stream",
     "text": [
      "100%|████████████████████████████████████████████████████████████████████████| 198.0/198.0 [00:47<00:00,  4.20seconds/s]\n",
      "100%|████████████████████████████████████████████████████████████████████████| 198.0/198.0 [00:50<00:00,  3.90seconds/s]\n",
      "100%|████████████████████████████████████████████████████████████████████████| 198.0/198.0 [00:51<00:00,  3.87seconds/s]\n",
      "100%|████████████████████████████████████████████████████████████████████████| 198.0/198.0 [00:49<00:00,  4.02seconds/s]\n",
      "/home/victor/.local/lib/python3.12/site-packages/whisper/transcribe.py:126: UserWarning: FP16 is not supported on CPU; using FP32 instead\n",
      "  warnings.warn(\"FP16 is not supported on CPU; using FP32 instead\")\n"
     ]
    },
    {
     "name": "stdout",
     "output_type": "stream",
     "text": [
      "Selected model is a bag of 4 models. You will see that many progress bars per track.\n",
      "Separated tracks will be stored in /media/victor/Dual/Portafolio/VictorGarciaDS.github.io/assets/projects/separated/mdx_extra\n",
      "Separating track PequeñaSeñorita1565- MeHeVendido.mp3\n"
     ]
    },
    {
     "name": "stderr",
     "output_type": "stream",
     "text": [
      "100%|████████████████████████████████████████████████████████████████████████| 330.0/330.0 [01:24<00:00,  3.90seconds/s]\n",
      "100%|████████████████████████████████████████████████████████████████████████| 330.0/330.0 [01:30<00:00,  3.64seconds/s]\n",
      "100%|████████████████████████████████████████████████████████████████████████| 330.0/330.0 [01:29<00:00,  3.70seconds/s]\n",
      "100%|████████████████████████████████████████████████████████████████████████| 330.0/330.0 [01:29<00:00,  3.70seconds/s]\n",
      "/home/victor/.local/lib/python3.12/site-packages/whisper/transcribe.py:126: UserWarning: FP16 is not supported on CPU; using FP32 instead\n",
      "  warnings.warn(\"FP16 is not supported on CPU; using FP32 instead\")\n"
     ]
    },
    {
     "name": "stdout",
     "output_type": "stream",
     "text": [
      "Selected model is a bag of 4 models. You will see that many progress bars per track.\n",
      "Separated tracks will be stored in /media/victor/Dual/Portafolio/VictorGarciaDS.github.io/assets/projects/separated/mdx_extra\n",
      "Separating track PequeñaSeñorita1565- NoHaySuficienteIra.mp3\n"
     ]
    },
    {
     "name": "stderr",
     "output_type": "stream",
     "text": [
      "100%|████████████████████████████████████████████████████████████████████████| 264.0/264.0 [01:07<00:00,  3.90seconds/s]\n",
      "100%|████████████████████████████████████████████████████████████████████████| 264.0/264.0 [01:06<00:00,  3.98seconds/s]\n",
      "100%|████████████████████████████████████████████████████████████████████████| 264.0/264.0 [01:09<00:00,  3.79seconds/s]\n",
      "100%|████████████████████████████████████████████████████████████████████████| 264.0/264.0 [01:05<00:00,  4.03seconds/s]\n",
      "/home/victor/.local/lib/python3.12/site-packages/whisper/transcribe.py:126: UserWarning: FP16 is not supported on CPU; using FP32 instead\n",
      "  warnings.warn(\"FP16 is not supported on CPU; using FP32 instead\")\n"
     ]
    },
    {
     "name": "stdout",
     "output_type": "stream",
     "text": [
      "Selected model is a bag of 4 models. You will see that many progress bars per track.\n",
      "Separated tracks will be stored in /media/victor/Dual/Portafolio/VictorGarciaDS.github.io/assets/projects/separated/mdx_extra\n",
      "Separating track PequeñaSeñorita1565- Potable.mp3\n"
     ]
    },
    {
     "name": "stderr",
     "output_type": "stream",
     "text": [
      "100%|████████████████████████████████████████████████████████████████████████| 165.0/165.0 [00:46<00:00,  3.58seconds/s]\n",
      "100%|████████████████████████████████████████████████████████████████████████| 165.0/165.0 [00:45<00:00,  3.65seconds/s]\n",
      "100%|████████████████████████████████████████████████████████████████████████| 165.0/165.0 [00:49<00:00,  3.34seconds/s]\n",
      "100%|████████████████████████████████████████████████████████████████████████| 165.0/165.0 [00:50<00:00,  3.27seconds/s]\n",
      "/home/victor/.local/lib/python3.12/site-packages/whisper/transcribe.py:126: UserWarning: FP16 is not supported on CPU; using FP32 instead\n",
      "  warnings.warn(\"FP16 is not supported on CPU; using FP32 instead\")\n"
     ]
    },
    {
     "name": "stdout",
     "output_type": "stream",
     "text": [
      "Selected model is a bag of 4 models. You will see that many progress bars per track.\n",
      "Separated tracks will be stored in /media/victor/Dual/Portafolio/VictorGarciaDS.github.io/assets/projects/separated/mdx_extra\n",
      "Separating track PequeñaSeñorita1565- SuspiroQuemado.mp3\n"
     ]
    },
    {
     "name": "stderr",
     "output_type": "stream",
     "text": [
      "100%|████████████████████████████████████████████████████████████████████████| 264.0/264.0 [01:10<00:00,  3.73seconds/s]\n",
      "100%|████████████████████████████████████████████████████████████████████████| 264.0/264.0 [01:14<00:00,  3.53seconds/s]\n",
      "100%|████████████████████████████████████████████████████████████████████████| 264.0/264.0 [01:08<00:00,  3.84seconds/s]\n",
      "100%|████████████████████████████████████████████████████████████████████████| 264.0/264.0 [01:04<00:00,  4.09seconds/s]\n",
      "/home/victor/.local/lib/python3.12/site-packages/whisper/transcribe.py:126: UserWarning: FP16 is not supported on CPU; using FP32 instead\n",
      "  warnings.warn(\"FP16 is not supported on CPU; using FP32 instead\")\n"
     ]
    }
   ],
   "source": [
    "for i in range(len(listsongs)):\n",
    "    SongToLyrics(listsongs[i])"
   ]
  }
 ],
 "metadata": {
  "kernelspec": {
   "display_name": "Python 3",
   "language": "python",
   "name": "python3"
  },
  "language_info": {
   "codemirror_mode": {
    "name": "ipython",
    "version": 3
   },
   "file_extension": ".py",
   "mimetype": "text/x-python",
   "name": "python",
   "nbconvert_exporter": "python",
   "pygments_lexer": "ipython3",
   "version": "3.12.2"
  }
 },
 "nbformat": 4,
 "nbformat_minor": 2
}
